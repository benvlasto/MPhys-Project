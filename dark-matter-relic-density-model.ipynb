{
 "cells": [
  {
   "cell_type": "markdown",
   "metadata": {},
   "source": [
    "Thoughts and notes:\n",
    "\n",
    "The output will be dark matter relic density, which is best understood on a log scale. Hence the loss function should be mean_squared_logarithmic_error rather than regular mean squared error (mse).\n",
    "\n",
    "Should split data set into about 70% training, 15% validation, and 15% test data."
   ]
  },
  {
   "cell_type": "code",
   "execution_count": 6,
   "metadata": {},
   "outputs": [],
   "source": [
    "import pandas as pd\n",
    "import numpy as np\n",
    "import matplotlib.pyplot as plt\n",
    "import tensorflow as tf\n",
    "from tensorflow import keras\n",
    "from tensorflow.keras import layers\n",
    "\n",
    "df = pd.read_csv(\"result_df.csv\")"
   ]
  },
  {
   "cell_type": "code",
   "execution_count": null,
   "metadata": {},
   "outputs": [],
   "source": [
    "def drop_zero_columns(df):\n",
    "    # Removes all columns from a DataFrame where every value is zero.\n",
    "    \n",
    "    # Get columns where all values are zero\n",
    "    zero_cols = df.columns[(df == 0).all(axis=0)]\n",
    "    \n",
    "    # Drop those columns and return\n",
    "    return zero_cols, df.drop(columns=zero_cols)"
   ]
  },
  {
   "cell_type": "code",
   "execution_count": 34,
   "metadata": {},
   "outputs": [
    {
     "data": {
      "text/plain": [
       "array(['BF_A_to_W_W', 'BF_H_to_Z_h', 'BF_Hp_to_c_b', 'BF_Hp_to_c_s',\n",
       "       'BF_Hp_to_d_b', 'BF_Hp_to_d_s', 'BF_Hp_to_mu_nu_mu',\n",
       "       'BF_Hp_to_t_b', 'BF_Hp_to_tau_nu_tau', 'BF_b_1_to_chi_10',\n",
       "       'BF_b_1_to_chi_1p', 'BF_b_1_to_e_L', 'BF_b_1_to_gl',\n",
       "       'BF_b_1_to_mu_L', 'BF_b_1_to_nu_e_L', 'BF_b_1_to_nu_mu_L',\n",
       "       'BF_b_1_to_nu_tau_1', 'BF_b_1_to_tau_1', 'BF_b_2_to_chi_10',\n",
       "       'BF_b_2_to_chi_1p', 'BF_b_2_to_gl', 'BF_chi_10_other',\n",
       "       'BF_chi_10_to_e_L', 'BF_chi_10_to_e_R', 'BF_chi_10_to_gravitino_Z',\n",
       "       'BF_chi_10_to_gravitino_gam', 'BF_chi_10_to_gravitino_h',\n",
       "       'BF_chi_10_to_mu_L', 'BF_chi_10_to_mu_R', 'BF_chi_10_to_nu_e_L',\n",
       "       'BF_chi_10_to_nu_mu_L', 'BF_chi_10_to_nu_tau_1',\n",
       "       'BF_chi_10_to_tau_1', 'BF_chi_10_to_tau_2', 'BF_chi_1p_to_chi_30',\n",
       "       'BF_chi_20_to_chi_1p_ele_nu_ele', 'BF_chi_20_to_chi_1p_mu_nu_mu',\n",
       "       'BF_chi_20_to_chi_1p_tau_nu_tau', 'BF_chi_20_to_chi_2p',\n",
       "       'BF_chi_20_to_chi_2p_W', 'BF_chi_30_to_chi_2p',\n",
       "       'BF_chi_30_to_chi_2p_W', 'BF_d_L_other', 'BF_d_R_other',\n",
       "       'BF_d_R_to_chi_1p', 'BF_d_R_to_chi_2p', 'BF_gl_to_c_L',\n",
       "       'BF_gl_to_c_R', 'BF_gl_to_d_L', 'BF_gl_to_d_R', 'BF_gl_to_nu_e_L',\n",
       "       'BF_gl_to_nu_mu_L', 'BF_gl_to_nu_tau_1', 'BF_gl_to_s_L',\n",
       "       'BF_gl_to_s_R', 'BF_gl_to_u_L', 'BF_gl_to_u_R', 'BF_t_1_other',\n",
       "       'BF_t_1_to_chi_10', 'BF_t_1_to_chi_10_b', 'BF_t_1_to_chi_1p',\n",
       "       'BF_t_1_to_e_L', 'BF_t_1_to_gl', 'BF_t_1_to_mu_L',\n",
       "       'BF_t_1_to_nu_e_L', 'BF_t_1_to_nu_mu_L', 'BF_t_1_to_nu_tau_1',\n",
       "       'BF_t_1_to_tau_1', 'BF_t_2_to_chi_10', 'BF_t_2_to_chi_1p',\n",
       "       'BF_t_2_to_gl', 'BF_u_L_other', 'BF_u_R_other', 'BF_u_R_to_chi_1p',\n",
       "       'BF_u_R_to_chi_2p', 'BR_mu_to_3e', 'BR_mu_to_egamma',\n",
       "       'BR_tau_to_3e', 'BR_tau_to_3mu', 'BR_tau_to_egamma',\n",
       "       'BR_tau_to_mugamma', 'Cross_section_sb', 'Cross_section_sg',\n",
       "       'Cross_section_ss', 'LO_sb', 'LO_sg', 'LO_ss', 'NLO_bb1',\n",
       "       'NLO_bb2', 'NLO_ll0', 'NLO_ll1', 'NLO_ll10', 'NLO_ll11',\n",
       "       'NLO_ll12', 'NLO_ll13', 'NLO_ll14', 'NLO_ll16', 'NLO_ll17',\n",
       "       'NLO_ll18', 'NLO_ll19', 'NLO_ll2', 'NLO_ll20', 'NLO_ll3',\n",
       "       'NLO_ll4', 'NLO_ll5', 'NLO_ll6', 'NLO_ll7', 'NLO_ll8', 'NLO_ll9',\n",
       "       'NLO_ng1', 'NLO_ng2', 'NLO_ng3', 'NLO_ng4', 'NLO_ng5', 'NLO_ng6',\n",
       "       'NLO_ng7', 'NLO_ng8', 'NLO_ns1', 'NLO_ns2', 'NLO_ns3', 'NLO_ns4',\n",
       "       'NLO_ns5', 'NLO_ns6', 'NLO_ns7', 'NLO_ns8', 'NLO_sb', 'NLO_sg',\n",
       "       'NLO_ss', 'NLO_tb1', 'NLO_tb2', 'value_A0', 'w_chi_10'],\n",
       "      dtype=object)"
      ]
     },
     "execution_count": 34,
     "metadata": {},
     "output_type": "execute_result"
    }
   ],
   "source": [
    "col_names, dropped_df = drop_zero_columns(df)\n",
    "col_names.values"
   ]
  },
  {
   "cell_type": "code",
   "execution_count": 26,
   "metadata": {},
   "outputs": [
    {
     "name": "stdout",
     "output_type": "stream",
     "text": [
      "['A']\n"
     ]
    }
   ],
   "source": [
    "data = {\"A\": [0,0,0],\n",
    "        \"B\": [0,1,2],\n",
    "        \"C\": [0,0,1]}\n",
    "\n",
    "test = pd.DataFrame(data=data)\n",
    "col_names, dropped = drop_zero_columns(test)\n",
    "\n",
    "print(col_names.values)"
   ]
  },
  {
   "cell_type": "code",
   "execution_count": 23,
   "metadata": {},
   "outputs": [
    {
     "data": {
      "text/html": [
       "<div>\n",
       "<style scoped>\n",
       "    .dataframe tbody tr th:only-of-type {\n",
       "        vertical-align: middle;\n",
       "    }\n",
       "\n",
       "    .dataframe tbody tr th {\n",
       "        vertical-align: top;\n",
       "    }\n",
       "\n",
       "    .dataframe thead th {\n",
       "        text-align: right;\n",
       "    }\n",
       "</style>\n",
       "<table border=\"1\" class=\"dataframe\">\n",
       "  <thead>\n",
       "    <tr style=\"text-align: right;\">\n",
       "      <th></th>\n",
       "      <th>B</th>\n",
       "      <th>C</th>\n",
       "    </tr>\n",
       "  </thead>\n",
       "  <tbody>\n",
       "    <tr>\n",
       "      <th>0</th>\n",
       "      <td>0</td>\n",
       "      <td>0</td>\n",
       "    </tr>\n",
       "    <tr>\n",
       "      <th>1</th>\n",
       "      <td>1</td>\n",
       "      <td>0</td>\n",
       "    </tr>\n",
       "    <tr>\n",
       "      <th>2</th>\n",
       "      <td>2</td>\n",
       "      <td>1</td>\n",
       "    </tr>\n",
       "  </tbody>\n",
       "</table>\n",
       "</div>"
      ],
      "text/plain": [
       "   B  C\n",
       "0  0  0\n",
       "1  1  0\n",
       "2  2  1"
      ]
     },
     "execution_count": 23,
     "metadata": {},
     "output_type": "execute_result"
    }
   ],
   "source": [
    "dropped.head()"
   ]
  }
 ],
 "metadata": {
  "kernelspec": {
   "display_name": ".venv",
   "language": "python",
   "name": "python3"
  },
  "language_info": {
   "codemirror_mode": {
    "name": "ipython",
    "version": 3
   },
   "file_extension": ".py",
   "mimetype": "text/x-python",
   "name": "python",
   "nbconvert_exporter": "python",
   "pygments_lexer": "ipython3",
   "version": "3.12.3"
  }
 },
 "nbformat": 4,
 "nbformat_minor": 2
}
