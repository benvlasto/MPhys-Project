{
 "cells": [
  {
   "cell_type": "code",
   "execution_count": 58,
   "metadata": {},
   "outputs": [],
   "source": [
    "import pandas as pd\n",
    "import numpy as np\n",
    "import matplotlib.pyplot as plt\n",
    "import plotly.express as px\n",
    "\n",
    "#output_df = pd.read_csv(\"../csv-files/CLs_predictions/4l_128n_75e_0.005lr_MAE_with_all_data.csv\")\n",
    "#output_df = pd.read_csv(\"../csv-files/CLs_predictions/4l_128n_EWKino_with_all_CLs_predictions.csv\")\n",
    "output_df = pd.read_csv(\"../csv-files/EWKino.csv\")\n",
    "\n",
    "CLs_labels = ['FullHad', '1Lbb', '2L0J', '2L2J', 'Compressed', '3LOffshell', '3LOnshell', '4L', 'DisappearingTrack', 'h_to_inv', 'mA']"
   ]
  },
  {
   "cell_type": "code",
   "execution_count": 59,
   "metadata": {},
   "outputs": [
    {
     "data": {
      "application/vnd.plotly.v1+json": {
       "config": {
        "plotlyServerURL": "https://plot.ly"
       },
       "data": [
        {
         "coloraxis": "coloraxis",
         "hovertemplate": "m_chi_1p [GeV]: %{x}<br>m_chi_10 [GeV]: %{y}<br>Fraction of models excluded: %{z}<extra></extra>",
         "name": "0",
         "type": "heatmap",
         "x": [
          0,
          85.71428571428571,
          171.42857142857142,
          257.1428571428571,
          342.85714285714283,
          428.57142857142856,
          514.2857142857142,
          600,
          685.7142857142857,
          771.4285714285713,
          857.1428571428571,
          942.8571428571428,
          1028.5714285714284,
          1114.2857142857142,
          1200
         ],
         "xaxis": "x",
         "y": [
          0,
          35.714285714285715,
          71.42857142857143,
          107.14285714285714,
          142.85714285714286,
          178.57142857142858,
          214.28571428571428,
          250,
          285.7142857142857,
          321.42857142857144,
          357.14285714285717,
          392.8571428571429,
          428.57142857142856,
          464.2857142857143,
          500
         ],
         "yaxis": "y",
         "z": [
          [
           null,
           0,
           0,
           0,
           0,
           0.21428571428571427,
           0.46153846153846156,
           0.9,
           0.5384615384615384,
           0.5454545454545454,
           0.46153846153846156,
           0.3076923076923077,
           0.1,
           0,
           0
          ],
          [
           null,
           0,
           0,
           0,
           0,
           0.1111111111111111,
           0.5384615384615384,
           0.8666666666666667,
           0.6875,
           0.5333333333333333,
           0.3333333333333333,
           0.3,
           0.1111111111111111,
           0,
           0
          ],
          [
           null,
           0.12598425196850394,
           0,
           0,
           0,
           0.1,
           0.5,
           0.7857142857142857,
           0.6111111111111112,
           0.6923076923076923,
           0.38461538461538464,
           0.21428571428571427,
           0,
           0,
           0
          ],
          [
           null,
           0.12040816326530612,
           0,
           0,
           0,
           0.09090909090909091,
           0.3888888888888889,
           0.5714285714285714,
           0.7272727272727273,
           0.5,
           0.2,
           0.3076923076923077,
           0.125,
           0,
           0
          ],
          [
           null,
           0.08681672025723473,
           0.06711409395973154,
           0,
           0,
           0,
           0.20833333333333334,
           0.3333333333333333,
           0.6153846153846154,
           0.625,
           0.25,
           0.125,
           0.06666666666666667,
           0,
           0
          ],
          [
           null,
           null,
           0.06651884700665188,
           0,
           0,
           0,
           0.06666666666666667,
           0.4,
           0.26666666666666666,
           0,
           0.1111111111111111,
           0.2,
           0.25,
           0,
           0
          ],
          [
           null,
           null,
           0.07317073170731707,
           0,
           0,
           0,
           0,
           0.18181818181818182,
           0.42857142857142855,
           0.4,
           0.5,
           0.3076923076923077,
           0,
           0,
           0
          ],
          [
           null,
           null,
           0.015625,
           0.043076923076923075,
           0,
           0,
           0,
           0.2,
           0,
           0.2857142857142857,
           0.2222222222222222,
           0.1111111111111111,
           0,
           0,
           0
          ],
          [
           null,
           null,
           null,
           0.016901408450704224,
           0,
           0,
           0,
           0,
           0.1,
           0.2,
           0.3333333333333333,
           0.1111111111111111,
           0,
           0,
           0
          ],
          [
           null,
           null,
           null,
           0.025510204081632654,
           0.006024096385542169,
           0,
           0,
           0,
           0,
           0.09523809523809523,
           0.3333333333333333,
           0.14285714285714285,
           0.08333333333333333,
           0,
           0
          ],
          [
           null,
           null,
           null,
           null,
           0.005813953488372093,
           0,
           0,
           0,
           0,
           0,
           0,
           0.1111111111111111,
           0,
           0,
           0
          ],
          [
           null,
           null,
           null,
           null,
           0,
           0,
           0,
           0,
           0,
           0,
           0,
           0.1,
           0,
           0,
           0
          ],
          [
           null,
           null,
           null,
           null,
           null,
           0,
           0,
           0,
           0,
           0,
           0,
           0,
           0,
           0,
           0
          ],
          [
           null,
           null,
           null,
           null,
           null,
           0,
           0,
           0,
           0,
           0,
           0,
           0,
           0,
           0,
           0
          ],
          [
           null,
           null,
           null,
           null,
           null,
           0,
           0,
           0,
           0,
           0,
           0,
           0,
           0,
           0,
           0
          ]
         ]
        }
       ],
       "layout": {
        "coloraxis": {
         "colorbar": {
          "title": {
           "text": "Fraction of models excluded"
          }
         },
         "colorscale": [
          [
           0,
           "#0d0887"
          ],
          [
           0.1111111111111111,
           "#46039f"
          ],
          [
           0.2222222222222222,
           "#7201a8"
          ],
          [
           0.3333333333333333,
           "#9c179e"
          ],
          [
           0.4444444444444444,
           "#bd3786"
          ],
          [
           0.5555555555555556,
           "#d8576b"
          ],
          [
           0.6666666666666666,
           "#ed7953"
          ],
          [
           0.7777777777777778,
           "#fb9f3a"
          ],
          [
           0.8888888888888888,
           "#fdca26"
          ],
          [
           1,
           "#f0f921"
          ]
         ]
        },
        "height": 600,
        "template": {
         "data": {
          "bar": [
           {
            "error_x": {
             "color": "#2a3f5f"
            },
            "error_y": {
             "color": "#2a3f5f"
            },
            "marker": {
             "line": {
              "color": "#E5ECF6",
              "width": 0.5
             },
             "pattern": {
              "fillmode": "overlay",
              "size": 10,
              "solidity": 0.2
             }
            },
            "type": "bar"
           }
          ],
          "barpolar": [
           {
            "marker": {
             "line": {
              "color": "#E5ECF6",
              "width": 0.5
             },
             "pattern": {
              "fillmode": "overlay",
              "size": 10,
              "solidity": 0.2
             }
            },
            "type": "barpolar"
           }
          ],
          "carpet": [
           {
            "aaxis": {
             "endlinecolor": "#2a3f5f",
             "gridcolor": "white",
             "linecolor": "white",
             "minorgridcolor": "white",
             "startlinecolor": "#2a3f5f"
            },
            "baxis": {
             "endlinecolor": "#2a3f5f",
             "gridcolor": "white",
             "linecolor": "white",
             "minorgridcolor": "white",
             "startlinecolor": "#2a3f5f"
            },
            "type": "carpet"
           }
          ],
          "choropleth": [
           {
            "colorbar": {
             "outlinewidth": 0,
             "ticks": ""
            },
            "type": "choropleth"
           }
          ],
          "contour": [
           {
            "colorbar": {
             "outlinewidth": 0,
             "ticks": ""
            },
            "colorscale": [
             [
              0,
              "#0d0887"
             ],
             [
              0.1111111111111111,
              "#46039f"
             ],
             [
              0.2222222222222222,
              "#7201a8"
             ],
             [
              0.3333333333333333,
              "#9c179e"
             ],
             [
              0.4444444444444444,
              "#bd3786"
             ],
             [
              0.5555555555555556,
              "#d8576b"
             ],
             [
              0.6666666666666666,
              "#ed7953"
             ],
             [
              0.7777777777777778,
              "#fb9f3a"
             ],
             [
              0.8888888888888888,
              "#fdca26"
             ],
             [
              1,
              "#f0f921"
             ]
            ],
            "type": "contour"
           }
          ],
          "contourcarpet": [
           {
            "colorbar": {
             "outlinewidth": 0,
             "ticks": ""
            },
            "type": "contourcarpet"
           }
          ],
          "heatmap": [
           {
            "colorbar": {
             "outlinewidth": 0,
             "ticks": ""
            },
            "colorscale": [
             [
              0,
              "#0d0887"
             ],
             [
              0.1111111111111111,
              "#46039f"
             ],
             [
              0.2222222222222222,
              "#7201a8"
             ],
             [
              0.3333333333333333,
              "#9c179e"
             ],
             [
              0.4444444444444444,
              "#bd3786"
             ],
             [
              0.5555555555555556,
              "#d8576b"
             ],
             [
              0.6666666666666666,
              "#ed7953"
             ],
             [
              0.7777777777777778,
              "#fb9f3a"
             ],
             [
              0.8888888888888888,
              "#fdca26"
             ],
             [
              1,
              "#f0f921"
             ]
            ],
            "type": "heatmap"
           }
          ],
          "heatmapgl": [
           {
            "colorbar": {
             "outlinewidth": 0,
             "ticks": ""
            },
            "colorscale": [
             [
              0,
              "#0d0887"
             ],
             [
              0.1111111111111111,
              "#46039f"
             ],
             [
              0.2222222222222222,
              "#7201a8"
             ],
             [
              0.3333333333333333,
              "#9c179e"
             ],
             [
              0.4444444444444444,
              "#bd3786"
             ],
             [
              0.5555555555555556,
              "#d8576b"
             ],
             [
              0.6666666666666666,
              "#ed7953"
             ],
             [
              0.7777777777777778,
              "#fb9f3a"
             ],
             [
              0.8888888888888888,
              "#fdca26"
             ],
             [
              1,
              "#f0f921"
             ]
            ],
            "type": "heatmapgl"
           }
          ],
          "histogram": [
           {
            "marker": {
             "pattern": {
              "fillmode": "overlay",
              "size": 10,
              "solidity": 0.2
             }
            },
            "type": "histogram"
           }
          ],
          "histogram2d": [
           {
            "colorbar": {
             "outlinewidth": 0,
             "ticks": ""
            },
            "colorscale": [
             [
              0,
              "#0d0887"
             ],
             [
              0.1111111111111111,
              "#46039f"
             ],
             [
              0.2222222222222222,
              "#7201a8"
             ],
             [
              0.3333333333333333,
              "#9c179e"
             ],
             [
              0.4444444444444444,
              "#bd3786"
             ],
             [
              0.5555555555555556,
              "#d8576b"
             ],
             [
              0.6666666666666666,
              "#ed7953"
             ],
             [
              0.7777777777777778,
              "#fb9f3a"
             ],
             [
              0.8888888888888888,
              "#fdca26"
             ],
             [
              1,
              "#f0f921"
             ]
            ],
            "type": "histogram2d"
           }
          ],
          "histogram2dcontour": [
           {
            "colorbar": {
             "outlinewidth": 0,
             "ticks": ""
            },
            "colorscale": [
             [
              0,
              "#0d0887"
             ],
             [
              0.1111111111111111,
              "#46039f"
             ],
             [
              0.2222222222222222,
              "#7201a8"
             ],
             [
              0.3333333333333333,
              "#9c179e"
             ],
             [
              0.4444444444444444,
              "#bd3786"
             ],
             [
              0.5555555555555556,
              "#d8576b"
             ],
             [
              0.6666666666666666,
              "#ed7953"
             ],
             [
              0.7777777777777778,
              "#fb9f3a"
             ],
             [
              0.8888888888888888,
              "#fdca26"
             ],
             [
              1,
              "#f0f921"
             ]
            ],
            "type": "histogram2dcontour"
           }
          ],
          "mesh3d": [
           {
            "colorbar": {
             "outlinewidth": 0,
             "ticks": ""
            },
            "type": "mesh3d"
           }
          ],
          "parcoords": [
           {
            "line": {
             "colorbar": {
              "outlinewidth": 0,
              "ticks": ""
             }
            },
            "type": "parcoords"
           }
          ],
          "pie": [
           {
            "automargin": true,
            "type": "pie"
           }
          ],
          "scatter": [
           {
            "fillpattern": {
             "fillmode": "overlay",
             "size": 10,
             "solidity": 0.2
            },
            "type": "scatter"
           }
          ],
          "scatter3d": [
           {
            "line": {
             "colorbar": {
              "outlinewidth": 0,
              "ticks": ""
             }
            },
            "marker": {
             "colorbar": {
              "outlinewidth": 0,
              "ticks": ""
             }
            },
            "type": "scatter3d"
           }
          ],
          "scattercarpet": [
           {
            "marker": {
             "colorbar": {
              "outlinewidth": 0,
              "ticks": ""
             }
            },
            "type": "scattercarpet"
           }
          ],
          "scattergeo": [
           {
            "marker": {
             "colorbar": {
              "outlinewidth": 0,
              "ticks": ""
             }
            },
            "type": "scattergeo"
           }
          ],
          "scattergl": [
           {
            "marker": {
             "colorbar": {
              "outlinewidth": 0,
              "ticks": ""
             }
            },
            "type": "scattergl"
           }
          ],
          "scattermapbox": [
           {
            "marker": {
             "colorbar": {
              "outlinewidth": 0,
              "ticks": ""
             }
            },
            "type": "scattermapbox"
           }
          ],
          "scatterpolar": [
           {
            "marker": {
             "colorbar": {
              "outlinewidth": 0,
              "ticks": ""
             }
            },
            "type": "scatterpolar"
           }
          ],
          "scatterpolargl": [
           {
            "marker": {
             "colorbar": {
              "outlinewidth": 0,
              "ticks": ""
             }
            },
            "type": "scatterpolargl"
           }
          ],
          "scatterternary": [
           {
            "marker": {
             "colorbar": {
              "outlinewidth": 0,
              "ticks": ""
             }
            },
            "type": "scatterternary"
           }
          ],
          "surface": [
           {
            "colorbar": {
             "outlinewidth": 0,
             "ticks": ""
            },
            "colorscale": [
             [
              0,
              "#0d0887"
             ],
             [
              0.1111111111111111,
              "#46039f"
             ],
             [
              0.2222222222222222,
              "#7201a8"
             ],
             [
              0.3333333333333333,
              "#9c179e"
             ],
             [
              0.4444444444444444,
              "#bd3786"
             ],
             [
              0.5555555555555556,
              "#d8576b"
             ],
             [
              0.6666666666666666,
              "#ed7953"
             ],
             [
              0.7777777777777778,
              "#fb9f3a"
             ],
             [
              0.8888888888888888,
              "#fdca26"
             ],
             [
              1,
              "#f0f921"
             ]
            ],
            "type": "surface"
           }
          ],
          "table": [
           {
            "cells": {
             "fill": {
              "color": "#EBF0F8"
             },
             "line": {
              "color": "white"
             }
            },
            "header": {
             "fill": {
              "color": "#C8D4E3"
             },
             "line": {
              "color": "white"
             }
            },
            "type": "table"
           }
          ]
         },
         "layout": {
          "annotationdefaults": {
           "arrowcolor": "#2a3f5f",
           "arrowhead": 0,
           "arrowwidth": 1
          },
          "autotypenumbers": "strict",
          "coloraxis": {
           "colorbar": {
            "outlinewidth": 0,
            "ticks": ""
           }
          },
          "colorscale": {
           "diverging": [
            [
             0,
             "#8e0152"
            ],
            [
             0.1,
             "#c51b7d"
            ],
            [
             0.2,
             "#de77ae"
            ],
            [
             0.3,
             "#f1b6da"
            ],
            [
             0.4,
             "#fde0ef"
            ],
            [
             0.5,
             "#f7f7f7"
            ],
            [
             0.6,
             "#e6f5d0"
            ],
            [
             0.7,
             "#b8e186"
            ],
            [
             0.8,
             "#7fbc41"
            ],
            [
             0.9,
             "#4d9221"
            ],
            [
             1,
             "#276419"
            ]
           ],
           "sequential": [
            [
             0,
             "#0d0887"
            ],
            [
             0.1111111111111111,
             "#46039f"
            ],
            [
             0.2222222222222222,
             "#7201a8"
            ],
            [
             0.3333333333333333,
             "#9c179e"
            ],
            [
             0.4444444444444444,
             "#bd3786"
            ],
            [
             0.5555555555555556,
             "#d8576b"
            ],
            [
             0.6666666666666666,
             "#ed7953"
            ],
            [
             0.7777777777777778,
             "#fb9f3a"
            ],
            [
             0.8888888888888888,
             "#fdca26"
            ],
            [
             1,
             "#f0f921"
            ]
           ],
           "sequentialminus": [
            [
             0,
             "#0d0887"
            ],
            [
             0.1111111111111111,
             "#46039f"
            ],
            [
             0.2222222222222222,
             "#7201a8"
            ],
            [
             0.3333333333333333,
             "#9c179e"
            ],
            [
             0.4444444444444444,
             "#bd3786"
            ],
            [
             0.5555555555555556,
             "#d8576b"
            ],
            [
             0.6666666666666666,
             "#ed7953"
            ],
            [
             0.7777777777777778,
             "#fb9f3a"
            ],
            [
             0.8888888888888888,
             "#fdca26"
            ],
            [
             1,
             "#f0f921"
            ]
           ]
          },
          "colorway": [
           "#636efa",
           "#EF553B",
           "#00cc96",
           "#ab63fa",
           "#FFA15A",
           "#19d3f3",
           "#FF6692",
           "#B6E880",
           "#FF97FF",
           "#FECB52"
          ],
          "font": {
           "color": "#2a3f5f"
          },
          "geo": {
           "bgcolor": "white",
           "lakecolor": "white",
           "landcolor": "#E5ECF6",
           "showlakes": true,
           "showland": true,
           "subunitcolor": "white"
          },
          "hoverlabel": {
           "align": "left"
          },
          "hovermode": "closest",
          "mapbox": {
           "style": "light"
          },
          "paper_bgcolor": "white",
          "plot_bgcolor": "#E5ECF6",
          "polar": {
           "angularaxis": {
            "gridcolor": "white",
            "linecolor": "white",
            "ticks": ""
           },
           "bgcolor": "#E5ECF6",
           "radialaxis": {
            "gridcolor": "white",
            "linecolor": "white",
            "ticks": ""
           }
          },
          "scene": {
           "xaxis": {
            "backgroundcolor": "#E5ECF6",
            "gridcolor": "white",
            "gridwidth": 2,
            "linecolor": "white",
            "showbackground": true,
            "ticks": "",
            "zerolinecolor": "white"
           },
           "yaxis": {
            "backgroundcolor": "#E5ECF6",
            "gridcolor": "white",
            "gridwidth": 2,
            "linecolor": "white",
            "showbackground": true,
            "ticks": "",
            "zerolinecolor": "white"
           },
           "zaxis": {
            "backgroundcolor": "#E5ECF6",
            "gridcolor": "white",
            "gridwidth": 2,
            "linecolor": "white",
            "showbackground": true,
            "ticks": "",
            "zerolinecolor": "white"
           }
          },
          "shapedefaults": {
           "line": {
            "color": "#2a3f5f"
           }
          },
          "ternary": {
           "aaxis": {
            "gridcolor": "white",
            "linecolor": "white",
            "ticks": ""
           },
           "baxis": {
            "gridcolor": "white",
            "linecolor": "white",
            "ticks": ""
           },
           "bgcolor": "#E5ECF6",
           "caxis": {
            "gridcolor": "white",
            "linecolor": "white",
            "ticks": ""
           }
          },
          "title": {
           "x": 0.05
          },
          "xaxis": {
           "automargin": true,
           "gridcolor": "white",
           "linecolor": "white",
           "ticks": "",
           "title": {
            "standoff": 15
           },
           "zerolinecolor": "white",
           "zerolinewidth": 2
          },
          "yaxis": {
           "automargin": true,
           "gridcolor": "white",
           "linecolor": "white",
           "ticks": "",
           "title": {
            "standoff": 15
           },
           "zerolinecolor": "white",
           "zerolinewidth": 2
          }
         }
        },
        "title": {
         "text": "EWKino scan, FullHad exclusion"
        },
        "width": 800,
        "xaxis": {
         "anchor": "y",
         "domain": [
          0,
          1
         ],
         "title": {
          "text": "m_chi_1p [GeV]"
         }
        },
        "yaxis": {
         "anchor": "x",
         "autorange": true,
         "domain": [
          0,
          1
         ],
         "title": {
          "text": "m_chi_10 [GeV]"
         }
        }
       }
      },
      "text/html": [
       "<div>                            <div id=\"6ef73792-bb13-45df-ae62-ca4e984b8e27\" class=\"plotly-graph-div\" style=\"height:600px; width:800px;\"></div>            <script type=\"text/javascript\">                require([\"plotly\"], function(Plotly) {                    window.PLOTLYENV=window.PLOTLYENV || {};                                    if (document.getElementById(\"6ef73792-bb13-45df-ae62-ca4e984b8e27\")) {                    Plotly.newPlot(                        \"6ef73792-bb13-45df-ae62-ca4e984b8e27\",                        [{\"coloraxis\":\"coloraxis\",\"name\":\"0\",\"x\":[0.0,85.71428571428571,171.42857142857142,257.1428571428571,342.85714285714283,428.57142857142856,514.2857142857142,600.0,685.7142857142857,771.4285714285713,857.1428571428571,942.8571428571428,1028.5714285714284,1114.2857142857142,1200.0],\"y\":[0.0,35.714285714285715,71.42857142857143,107.14285714285714,142.85714285714286,178.57142857142858,214.28571428571428,250.0,285.7142857142857,321.42857142857144,357.14285714285717,392.8571428571429,428.57142857142856,464.2857142857143,500.0],\"z\":[[null,0.0,0.0,0.0,0.0,0.21428571428571427,0.46153846153846156,0.9,0.5384615384615384,0.5454545454545454,0.46153846153846156,0.3076923076923077,0.1,0.0,0.0],[null,0.0,0.0,0.0,0.0,0.1111111111111111,0.5384615384615384,0.8666666666666667,0.6875,0.5333333333333333,0.3333333333333333,0.3,0.1111111111111111,0.0,0.0],[null,0.12598425196850394,0.0,0.0,0.0,0.1,0.5,0.7857142857142857,0.6111111111111112,0.6923076923076923,0.38461538461538464,0.21428571428571427,0.0,0.0,0.0],[null,0.12040816326530612,0.0,0.0,0.0,0.09090909090909091,0.3888888888888889,0.5714285714285714,0.7272727272727273,0.5,0.2,0.3076923076923077,0.125,0.0,0.0],[null,0.08681672025723473,0.06711409395973154,0.0,0.0,0.0,0.20833333333333334,0.3333333333333333,0.6153846153846154,0.625,0.25,0.125,0.06666666666666667,0.0,0.0],[null,null,0.06651884700665188,0.0,0.0,0.0,0.06666666666666667,0.4,0.26666666666666666,0.0,0.1111111111111111,0.2,0.25,0.0,0.0],[null,null,0.07317073170731707,0.0,0.0,0.0,0.0,0.18181818181818182,0.42857142857142855,0.4,0.5,0.3076923076923077,0.0,0.0,0.0],[null,null,0.015625,0.043076923076923075,0.0,0.0,0.0,0.2,0.0,0.2857142857142857,0.2222222222222222,0.1111111111111111,0.0,0.0,0.0],[null,null,null,0.016901408450704224,0.0,0.0,0.0,0.0,0.1,0.2,0.3333333333333333,0.1111111111111111,0.0,0.0,0.0],[null,null,null,0.025510204081632654,0.006024096385542169,0.0,0.0,0.0,0.0,0.09523809523809523,0.3333333333333333,0.14285714285714285,0.08333333333333333,0.0,0.0],[null,null,null,null,0.005813953488372093,0.0,0.0,0.0,0.0,0.0,0.0,0.1111111111111111,0.0,0.0,0.0],[null,null,null,null,0.0,0.0,0.0,0.0,0.0,0.0,0.0,0.1,0.0,0.0,0.0],[null,null,null,null,null,0.0,0.0,0.0,0.0,0.0,0.0,0.0,0.0,0.0,0.0],[null,null,null,null,null,0.0,0.0,0.0,0.0,0.0,0.0,0.0,0.0,0.0,0.0],[null,null,null,null,null,0.0,0.0,0.0,0.0,0.0,0.0,0.0,0.0,0.0,0.0]],\"type\":\"heatmap\",\"xaxis\":\"x\",\"yaxis\":\"y\",\"hovertemplate\":\"m_chi_1p [GeV]: %{x}\\u003cbr\\u003em_chi_10 [GeV]: %{y}\\u003cbr\\u003eFraction of models excluded: %{z}\\u003cextra\\u003e\\u003c\\u002fextra\\u003e\"}],                        {\"template\":{\"data\":{\"histogram2dcontour\":[{\"type\":\"histogram2dcontour\",\"colorbar\":{\"outlinewidth\":0,\"ticks\":\"\"},\"colorscale\":[[0.0,\"#0d0887\"],[0.1111111111111111,\"#46039f\"],[0.2222222222222222,\"#7201a8\"],[0.3333333333333333,\"#9c179e\"],[0.4444444444444444,\"#bd3786\"],[0.5555555555555556,\"#d8576b\"],[0.6666666666666666,\"#ed7953\"],[0.7777777777777778,\"#fb9f3a\"],[0.8888888888888888,\"#fdca26\"],[1.0,\"#f0f921\"]]}],\"choropleth\":[{\"type\":\"choropleth\",\"colorbar\":{\"outlinewidth\":0,\"ticks\":\"\"}}],\"histogram2d\":[{\"type\":\"histogram2d\",\"colorbar\":{\"outlinewidth\":0,\"ticks\":\"\"},\"colorscale\":[[0.0,\"#0d0887\"],[0.1111111111111111,\"#46039f\"],[0.2222222222222222,\"#7201a8\"],[0.3333333333333333,\"#9c179e\"],[0.4444444444444444,\"#bd3786\"],[0.5555555555555556,\"#d8576b\"],[0.6666666666666666,\"#ed7953\"],[0.7777777777777778,\"#fb9f3a\"],[0.8888888888888888,\"#fdca26\"],[1.0,\"#f0f921\"]]}],\"heatmap\":[{\"type\":\"heatmap\",\"colorbar\":{\"outlinewidth\":0,\"ticks\":\"\"},\"colorscale\":[[0.0,\"#0d0887\"],[0.1111111111111111,\"#46039f\"],[0.2222222222222222,\"#7201a8\"],[0.3333333333333333,\"#9c179e\"],[0.4444444444444444,\"#bd3786\"],[0.5555555555555556,\"#d8576b\"],[0.6666666666666666,\"#ed7953\"],[0.7777777777777778,\"#fb9f3a\"],[0.8888888888888888,\"#fdca26\"],[1.0,\"#f0f921\"]]}],\"heatmapgl\":[{\"type\":\"heatmapgl\",\"colorbar\":{\"outlinewidth\":0,\"ticks\":\"\"},\"colorscale\":[[0.0,\"#0d0887\"],[0.1111111111111111,\"#46039f\"],[0.2222222222222222,\"#7201a8\"],[0.3333333333333333,\"#9c179e\"],[0.4444444444444444,\"#bd3786\"],[0.5555555555555556,\"#d8576b\"],[0.6666666666666666,\"#ed7953\"],[0.7777777777777778,\"#fb9f3a\"],[0.8888888888888888,\"#fdca26\"],[1.0,\"#f0f921\"]]}],\"contourcarpet\":[{\"type\":\"contourcarpet\",\"colorbar\":{\"outlinewidth\":0,\"ticks\":\"\"}}],\"contour\":[{\"type\":\"contour\",\"colorbar\":{\"outlinewidth\":0,\"ticks\":\"\"},\"colorscale\":[[0.0,\"#0d0887\"],[0.1111111111111111,\"#46039f\"],[0.2222222222222222,\"#7201a8\"],[0.3333333333333333,\"#9c179e\"],[0.4444444444444444,\"#bd3786\"],[0.5555555555555556,\"#d8576b\"],[0.6666666666666666,\"#ed7953\"],[0.7777777777777778,\"#fb9f3a\"],[0.8888888888888888,\"#fdca26\"],[1.0,\"#f0f921\"]]}],\"surface\":[{\"type\":\"surface\",\"colorbar\":{\"outlinewidth\":0,\"ticks\":\"\"},\"colorscale\":[[0.0,\"#0d0887\"],[0.1111111111111111,\"#46039f\"],[0.2222222222222222,\"#7201a8\"],[0.3333333333333333,\"#9c179e\"],[0.4444444444444444,\"#bd3786\"],[0.5555555555555556,\"#d8576b\"],[0.6666666666666666,\"#ed7953\"],[0.7777777777777778,\"#fb9f3a\"],[0.8888888888888888,\"#fdca26\"],[1.0,\"#f0f921\"]]}],\"mesh3d\":[{\"type\":\"mesh3d\",\"colorbar\":{\"outlinewidth\":0,\"ticks\":\"\"}}],\"scatter\":[{\"fillpattern\":{\"fillmode\":\"overlay\",\"size\":10,\"solidity\":0.2},\"type\":\"scatter\"}],\"parcoords\":[{\"type\":\"parcoords\",\"line\":{\"colorbar\":{\"outlinewidth\":0,\"ticks\":\"\"}}}],\"scatterpolargl\":[{\"type\":\"scatterpolargl\",\"marker\":{\"colorbar\":{\"outlinewidth\":0,\"ticks\":\"\"}}}],\"bar\":[{\"error_x\":{\"color\":\"#2a3f5f\"},\"error_y\":{\"color\":\"#2a3f5f\"},\"marker\":{\"line\":{\"color\":\"#E5ECF6\",\"width\":0.5},\"pattern\":{\"fillmode\":\"overlay\",\"size\":10,\"solidity\":0.2}},\"type\":\"bar\"}],\"scattergeo\":[{\"type\":\"scattergeo\",\"marker\":{\"colorbar\":{\"outlinewidth\":0,\"ticks\":\"\"}}}],\"scatterpolar\":[{\"type\":\"scatterpolar\",\"marker\":{\"colorbar\":{\"outlinewidth\":0,\"ticks\":\"\"}}}],\"histogram\":[{\"marker\":{\"pattern\":{\"fillmode\":\"overlay\",\"size\":10,\"solidity\":0.2}},\"type\":\"histogram\"}],\"scattergl\":[{\"type\":\"scattergl\",\"marker\":{\"colorbar\":{\"outlinewidth\":0,\"ticks\":\"\"}}}],\"scatter3d\":[{\"type\":\"scatter3d\",\"line\":{\"colorbar\":{\"outlinewidth\":0,\"ticks\":\"\"}},\"marker\":{\"colorbar\":{\"outlinewidth\":0,\"ticks\":\"\"}}}],\"scattermapbox\":[{\"type\":\"scattermapbox\",\"marker\":{\"colorbar\":{\"outlinewidth\":0,\"ticks\":\"\"}}}],\"scatterternary\":[{\"type\":\"scatterternary\",\"marker\":{\"colorbar\":{\"outlinewidth\":0,\"ticks\":\"\"}}}],\"scattercarpet\":[{\"type\":\"scattercarpet\",\"marker\":{\"colorbar\":{\"outlinewidth\":0,\"ticks\":\"\"}}}],\"carpet\":[{\"aaxis\":{\"endlinecolor\":\"#2a3f5f\",\"gridcolor\":\"white\",\"linecolor\":\"white\",\"minorgridcolor\":\"white\",\"startlinecolor\":\"#2a3f5f\"},\"baxis\":{\"endlinecolor\":\"#2a3f5f\",\"gridcolor\":\"white\",\"linecolor\":\"white\",\"minorgridcolor\":\"white\",\"startlinecolor\":\"#2a3f5f\"},\"type\":\"carpet\"}],\"table\":[{\"cells\":{\"fill\":{\"color\":\"#EBF0F8\"},\"line\":{\"color\":\"white\"}},\"header\":{\"fill\":{\"color\":\"#C8D4E3\"},\"line\":{\"color\":\"white\"}},\"type\":\"table\"}],\"barpolar\":[{\"marker\":{\"line\":{\"color\":\"#E5ECF6\",\"width\":0.5},\"pattern\":{\"fillmode\":\"overlay\",\"size\":10,\"solidity\":0.2}},\"type\":\"barpolar\"}],\"pie\":[{\"automargin\":true,\"type\":\"pie\"}]},\"layout\":{\"autotypenumbers\":\"strict\",\"colorway\":[\"#636efa\",\"#EF553B\",\"#00cc96\",\"#ab63fa\",\"#FFA15A\",\"#19d3f3\",\"#FF6692\",\"#B6E880\",\"#FF97FF\",\"#FECB52\"],\"font\":{\"color\":\"#2a3f5f\"},\"hovermode\":\"closest\",\"hoverlabel\":{\"align\":\"left\"},\"paper_bgcolor\":\"white\",\"plot_bgcolor\":\"#E5ECF6\",\"polar\":{\"bgcolor\":\"#E5ECF6\",\"angularaxis\":{\"gridcolor\":\"white\",\"linecolor\":\"white\",\"ticks\":\"\"},\"radialaxis\":{\"gridcolor\":\"white\",\"linecolor\":\"white\",\"ticks\":\"\"}},\"ternary\":{\"bgcolor\":\"#E5ECF6\",\"aaxis\":{\"gridcolor\":\"white\",\"linecolor\":\"white\",\"ticks\":\"\"},\"baxis\":{\"gridcolor\":\"white\",\"linecolor\":\"white\",\"ticks\":\"\"},\"caxis\":{\"gridcolor\":\"white\",\"linecolor\":\"white\",\"ticks\":\"\"}},\"coloraxis\":{\"colorbar\":{\"outlinewidth\":0,\"ticks\":\"\"}},\"colorscale\":{\"sequential\":[[0.0,\"#0d0887\"],[0.1111111111111111,\"#46039f\"],[0.2222222222222222,\"#7201a8\"],[0.3333333333333333,\"#9c179e\"],[0.4444444444444444,\"#bd3786\"],[0.5555555555555556,\"#d8576b\"],[0.6666666666666666,\"#ed7953\"],[0.7777777777777778,\"#fb9f3a\"],[0.8888888888888888,\"#fdca26\"],[1.0,\"#f0f921\"]],\"sequentialminus\":[[0.0,\"#0d0887\"],[0.1111111111111111,\"#46039f\"],[0.2222222222222222,\"#7201a8\"],[0.3333333333333333,\"#9c179e\"],[0.4444444444444444,\"#bd3786\"],[0.5555555555555556,\"#d8576b\"],[0.6666666666666666,\"#ed7953\"],[0.7777777777777778,\"#fb9f3a\"],[0.8888888888888888,\"#fdca26\"],[1.0,\"#f0f921\"]],\"diverging\":[[0,\"#8e0152\"],[0.1,\"#c51b7d\"],[0.2,\"#de77ae\"],[0.3,\"#f1b6da\"],[0.4,\"#fde0ef\"],[0.5,\"#f7f7f7\"],[0.6,\"#e6f5d0\"],[0.7,\"#b8e186\"],[0.8,\"#7fbc41\"],[0.9,\"#4d9221\"],[1,\"#276419\"]]},\"xaxis\":{\"gridcolor\":\"white\",\"linecolor\":\"white\",\"ticks\":\"\",\"title\":{\"standoff\":15},\"zerolinecolor\":\"white\",\"automargin\":true,\"zerolinewidth\":2},\"yaxis\":{\"gridcolor\":\"white\",\"linecolor\":\"white\",\"ticks\":\"\",\"title\":{\"standoff\":15},\"zerolinecolor\":\"white\",\"automargin\":true,\"zerolinewidth\":2},\"scene\":{\"xaxis\":{\"backgroundcolor\":\"#E5ECF6\",\"gridcolor\":\"white\",\"linecolor\":\"white\",\"showbackground\":true,\"ticks\":\"\",\"zerolinecolor\":\"white\",\"gridwidth\":2},\"yaxis\":{\"backgroundcolor\":\"#E5ECF6\",\"gridcolor\":\"white\",\"linecolor\":\"white\",\"showbackground\":true,\"ticks\":\"\",\"zerolinecolor\":\"white\",\"gridwidth\":2},\"zaxis\":{\"backgroundcolor\":\"#E5ECF6\",\"gridcolor\":\"white\",\"linecolor\":\"white\",\"showbackground\":true,\"ticks\":\"\",\"zerolinecolor\":\"white\",\"gridwidth\":2}},\"shapedefaults\":{\"line\":{\"color\":\"#2a3f5f\"}},\"annotationdefaults\":{\"arrowcolor\":\"#2a3f5f\",\"arrowhead\":0,\"arrowwidth\":1},\"geo\":{\"bgcolor\":\"white\",\"landcolor\":\"#E5ECF6\",\"subunitcolor\":\"white\",\"showland\":true,\"showlakes\":true,\"lakecolor\":\"white\"},\"title\":{\"x\":0.05},\"mapbox\":{\"style\":\"light\"}}},\"xaxis\":{\"anchor\":\"y\",\"domain\":[0.0,1.0],\"title\":{\"text\":\"m_chi_1p [GeV]\"}},\"yaxis\":{\"anchor\":\"x\",\"domain\":[0.0,1.0],\"autorange\":true,\"title\":{\"text\":\"m_chi_10 [GeV]\"}},\"coloraxis\":{\"colorbar\":{\"title\":{\"text\":\"Fraction of models excluded\"}},\"colorscale\":[[0.0,\"#0d0887\"],[0.1111111111111111,\"#46039f\"],[0.2222222222222222,\"#7201a8\"],[0.3333333333333333,\"#9c179e\"],[0.4444444444444444,\"#bd3786\"],[0.5555555555555556,\"#d8576b\"],[0.6666666666666666,\"#ed7953\"],[0.7777777777777778,\"#fb9f3a\"],[0.8888888888888888,\"#fdca26\"],[1.0,\"#f0f921\"]]},\"title\":{\"text\":\"EWKino scan, FullHad exclusion\"},\"height\":600,\"width\":800},                        {\"responsive\": true}                    ).then(function(){\n",
       "                            \n",
       "var gd = document.getElementById('6ef73792-bb13-45df-ae62-ca4e984b8e27');\n",
       "var x = new MutationObserver(function (mutations, observer) {{\n",
       "        var display = window.getComputedStyle(gd).display;\n",
       "        if (!display || display === 'none') {{\n",
       "            console.log([gd, 'removed!']);\n",
       "            Plotly.purge(gd);\n",
       "            observer.disconnect();\n",
       "        }}\n",
       "}});\n",
       "\n",
       "// Listen for the removal of the full notebook cells\n",
       "var notebookContainer = gd.closest('#notebook-container');\n",
       "if (notebookContainer) {{\n",
       "    x.observe(notebookContainer, {childList: true});\n",
       "}}\n",
       "\n",
       "// Listen for the clearing of the current output cell\n",
       "var outputEl = gd.closest('.output');\n",
       "if (outputEl) {{\n",
       "    x.observe(outputEl, {childList: true});\n",
       "}}\n",
       "\n",
       "                        })                };                });            </script>        </div>"
      ]
     },
     "metadata": {},
     "output_type": "display_data"
    }
   ],
   "source": [
    "def convert_to_heatmap_form(data: [[int]]) -> np.array:\n",
    "    \n",
    "    # Reverse array order so plots are in standard form of origin in bottom left (rather than top left)\n",
    "    #data = data[::-1]\n",
    "    \n",
    "    # Convert to numpy arrays for easier handling\n",
    "    return np.array(data)\n",
    "\n",
    "def recreate_figure_4_7a_from_BenH_thesis(df, num_bins):\n",
    "    \n",
    "    plt.style.use('default')\n",
    "    \n",
    "    # Get 1st and 2nd neutralino masses for each SUSY model\n",
    "    m_chi_1p = df[\"m_chi_1p\"]\n",
    "    m_chi_10 = df[\"m_chi_10\"]\n",
    "    \n",
    "    # Create mass bins for plotting\n",
    "    M1_bins = np.linspace(0, 1200, num_bins+1)\n",
    "    M2_bins = np.linspace(0, 500, num_bins+1)\n",
    "    \n",
    "    frac_excluded = []\n",
    "    \n",
    "    for i in range(num_bins):\n",
    "        \n",
    "        frac_excluded_rows = []\n",
    "        \n",
    "        for j in range(num_bins):\n",
    "            \n",
    "            # Select models in particular bin\n",
    "            bin_mask = (m_chi_1p >= M1_bins[j]) & (m_chi_1p < M1_bins[j+1]) & (m_chi_10 >= M2_bins[i]) & (m_chi_10 < M2_bins[i+1])\n",
    "            \n",
    "            # Get number of excluded models and total models in bin\n",
    "            bin_excluded = (df[bin_mask][\"FullHad__ObsCLs\"] < 0.05).sum()\n",
    "            bin_total = (df[bin_mask][\"FullHad__ObsCLs\"] < 2).sum()\n",
    "            \n",
    "            # Add fraction excluded in bin to heatmap array\n",
    "            if bin_total != 0:\n",
    "                bin_frac_excluded = bin_excluded / bin_total\n",
    "            else:\n",
    "                bin_frac_excluded = float('nan')\n",
    "                        \n",
    "            frac_excluded_rows.append(bin_frac_excluded)\n",
    "            \n",
    "        frac_excluded.append(frac_excluded_rows)\n",
    "    \n",
    "    # Convert arrays into a better form for heatmap plotting\n",
    "    frac_excluded = np.array(frac_excluded)\n",
    "    \n",
    "    # Make 2D heatmap plots\n",
    "    fig_x=np.linspace(0, 1200, num_bins)\n",
    "    fig_y=np.linspace(0, 500, num_bins)\n",
    "    \n",
    "    fig_true = px.imshow(frac_excluded, \n",
    "                         labels=dict(x=\"m_chi_1p [GeV]\", y=\"m_chi_10 [GeV]\", color=\"Fraction of models excluded\"), \n",
    "                         x=fig_x, y=fig_y, origin=\"lower\", width=800, height=600, title=\"EWKino scan, FullHad exclusion\", aspect='square')\n",
    "    \n",
    "    fig_true.show()\n",
    "\n",
    "recreate_figure_4_7a_from_BenH_thesis(output_df, 15)"
   ]
  },
  {
   "cell_type": "code",
   "execution_count": 18,
   "metadata": {},
   "outputs": [
    {
     "data": {
      "text/plain": [
       "(<Figure size 800x600 with 1 Axes>,\n",
       " <Axes: title={'center': 'Number of models in bins of LSP mass (scaled to match pMSSM paper)'}, xlabel='m_chi_10 [GeV]', ylabel='Number of models'>)"
      ]
     },
     "execution_count": 18,
     "metadata": {},
     "output_type": "execute_result"
    },
    {
     "data": {
      "image/png": "[encoded data removed]",
      "text/plain": [
       "<Figure size 800x600 with 1 Axes>"
      ]
     },
     "metadata": {},
     "output_type": "display_data"
    }
   ],
   "source": [
    "# Recreating figure 4 from pMSSM paper\n",
    "def recreate_figure_4b_from_pMSSM_paper(df, num_bins):\n",
    "    \n",
    "    m_chi_10 = df[\"m_chi_10\"]\n",
    "    valid_CLs_models = df[\"Predicted_Final__CLs\"] > 0.05\n",
    "    valid_external_constraints_models = (df[\"Constraints__Flavour\"] == 1) & (df[\"Constraints__EW\"] == 1)\n",
    "    \n",
    "    # For figure 4a, you need to split dataset into bino-, wino-, and higgsino-like LSP. Doesn't work well because numbers are too small to be smooth\n",
    "    bino_like_LSP = df[\"LSP_type\"] == 1\n",
    "    wino_like_LSP = df[\"LSP_type\"] == 2\n",
    "    higgsino_like_LSP = df[\"LSP_type\"] == 3\n",
    "    \n",
    "    # Create bins\n",
    "    bins = np.linspace(0, 1000, num_bins + 1)\n",
    "    \n",
    "    # Compute number of models for each bin\n",
    "    number_of_models_by_bin = []\n",
    "    valid_external_constraints_by_bin = []\n",
    "    allowed_models_by_bin = []\n",
    "    \n",
    "    bin_centers = []\n",
    "    \n",
    "    for i in range(num_bins):\n",
    "        # Find indices of values in this bin\n",
    "        bin_mask = (m_chi_10 >= bins[i]) & (m_chi_10 < bins[i+1])\n",
    "        valid_external_constraints_bin_mask = bin_mask & valid_external_constraints_models\n",
    "        valid_CLs_and_external_constraints_bin_mask = bin_mask & valid_CLs_models & valid_external_constraints_models\n",
    "        \n",
    "        # Calculate number of models for this bin\n",
    "        number_of_models = bin_mask.sum()\n",
    "        num_valid_external_constraints_models = valid_external_constraints_bin_mask.sum()\n",
    "        num_valid_CLs_and_external_constraints_models = valid_CLs_and_external_constraints_bin_mask.sum()\n",
    "        \n",
    "        # We only have 15% of the original dataset as we trained on the first 85%. Rescale to original to make a fair comparison\n",
    "        scaled_number_of_models = number_of_models / 0.15\n",
    "        scaled_num_external_constraints = num_valid_external_constraints_models / 0.15\n",
    "        scaled_num_of_valid_models = num_valid_CLs_and_external_constraints_models / 0.15\n",
    "        \n",
    "        # Store results in array\n",
    "        number_of_models_by_bin.append(scaled_number_of_models)\n",
    "        valid_external_constraints_by_bin.append(scaled_num_external_constraints)\n",
    "        allowed_models_by_bin.append(scaled_num_of_valid_models)\n",
    "        bin_centers.append((bins[i] + bins[i+1]) / 2)\n",
    "    \n",
    "    # Create the plot\n",
    "    plt.figure(figsize=(8,6))\n",
    "    plt.bar(bin_centers, number_of_models_by_bin, width=(bins[1]-bins[0]), color=\"#d2d2d3\")\n",
    "    plt.bar(bin_centers, valid_external_constraints_by_bin, width=(bins[1]-bins[0]), color=\"#b1c5de\")\n",
    "    plt.bar(bin_centers, allowed_models_by_bin, width=(bins[1]-bins[0]), color=\"#181971\")\n",
    "    \n",
    "    plt.title('Number of models in bins of LSP mass (scaled to match pMSSM paper)')\n",
    "    plt.xlabel('m_chi_10 [GeV]')\n",
    "    plt.ylabel('Number of models')\n",
    "    \n",
    "    plt.tight_layout()\n",
    "    plt.legend([\"All considered models\", \"After non-DM external constraints\", \"Predicted CLs > 0.05 and non-DM external constraints\"])\n",
    "    #plt.savefig(\"../plots/CLs_predictor_performance/recreate_figure_4b.pdf\")\n",
    "    \n",
    "    return plt.gcf(), plt.gca()\n",
    "\n",
    "recreate_figure_4b_from_pMSSM_paper(output_df, 20)"
   ]
  },
  {
   "cell_type": "code",
   "execution_count": 16,
   "metadata": {},
   "outputs": [
    {
     "data": {
      "image/png": "[encoded data removed]",
      "text/plain": [
       "<Figure size 800x600 with 2 Axes>"
      ]
     },
     "metadata": {},
     "output_type": "display_data"
    }
   ],
   "source": [
    "def scatter_plot_of_MAE(df):\n",
    "    \n",
    "    sorted_df = df\n",
    "    sorted_df[\"abs_error\"] = abs(df[\"Final__CLs\"] - df[\"Predicted_Final__CLs\"])\n",
    "    sorted_df = sorted_df.sort_values(by='abs_error')\n",
    "    \n",
    "    # Get 1st and 2nd neutralino masses for each SUSY model\n",
    "    m_chi_10 = sorted_df[\"m_chi_10\"]\n",
    "    m_chi_20 = sorted_df[\"m_chi_20\"]\n",
    "    \n",
    "    # Get error in CLs prediction for each model\n",
    "    abs_pred_error = sorted_df['abs_error']\n",
    "    \n",
    "    # Identify models for which error is large (i.e. prediction is bad)\n",
    "    large_errors = abs_pred_error > 0.02\n",
    "    \n",
    "    plt.style.use('dark_background')\n",
    "    \n",
    "    plt.figure(figsize=(8,6))\n",
    "    plt.scatter(m_chi_10, m_chi_20, c=abs_pred_error, cmap='plasma', s=abs_pred_error*8) #s=abs_pred_error*5\n",
    "    plt.xlabel('m_chi_10 [GeV]')\n",
    "    plt.ylabel('m_chi_20 [GeV]')\n",
    "    plt.colorbar()\n",
    "    plt.title('m_chi_10 against m_chi_20, points coloured and sized by error in CLs prediction')\n",
    "    #plt.savefig('../plots/CLs_predictor_performance/4l_128n_75e_MAE_plots/scatter_plot_coloured_by_CLs_error.png')\n",
    "    \n",
    "    '''\n",
    "    plt.figure(figsize=(8,6))\n",
    "    plt.scatter(m_chi_10[large_errors], m_chi_20[large_errors], c=abs_pred_error[large_errors], cmap='plasma', s=abs_pred_error[large_errors]*10)\n",
    "    plt.xlabel('m_chi_10 [GeV]')\n",
    "    plt.ylabel('m_chi_20 [GeV]')\n",
    "    plt.colorbar()\n",
    "    '''\n",
    "\n",
    "scatter_plot_of_MAE(df=output_df)"
   ]
  },
  {
   "cell_type": "code",
   "execution_count": 72,
   "metadata": {},
   "outputs": [
    {
     "data": {
      "application/vnd.plotly.v1+json": {
       "config": {
        "plotlyServerURL": "https://plot.ly"
       },
       "data": [
        {
         "coloraxis": "coloraxis",
         "hovertemplate": "m_chi_10 [GeV]: %{x}<br>m_chi_20 [GeV]: %{y}<br>True - predicted CLs: %{z}<extra></extra>",
         "name": "0",
         "type": "heatmap",
         "x": [
          0,
          17.24137931034483,
          34.48275862068966,
          51.72413793103449,
          68.96551724137932,
          86.20689655172414,
          103.44827586206898,
          120.68965517241381,
          137.93103448275863,
          155.17241379310346,
          172.41379310344828,
          189.6551724137931,
          206.89655172413796,
          224.1379310344828,
          241.37931034482762,
          258.62068965517244,
          275.86206896551727,
          293.1034482758621,
          310.3448275862069,
          327.58620689655174,
          344.82758620689657,
          362.0689655172414,
          379.3103448275862,
          396.55172413793105,
          413.79310344827593,
          431.03448275862075,
          448.2758620689656,
          465.5172413793104,
          482.75862068965523,
          500
         ],
         "xaxis": "x",
         "y": [
          0,
          17.24137931034483,
          34.48275862068966,
          51.72413793103449,
          68.96551724137932,
          86.20689655172414,
          103.44827586206898,
          120.68965517241381,
          137.93103448275863,
          155.17241379310346,
          172.41379310344828,
          189.6551724137931,
          206.89655172413796,
          224.1379310344828,
          241.37931034482762,
          258.62068965517244,
          275.86206896551727,
          293.1034482758621,
          310.3448275862069,
          327.58620689655174,
          344.82758620689657,
          362.0689655172414,
          379.3103448275862,
          396.55172413793105,
          413.79310344827593,
          431.03448275862075,
          448.2758620689656,
          465.5172413793104,
          482.75862068965523,
          500
         ],
         "yaxis": "y",
         "z": [
          [
           null,
           null,
           null,
           null,
           null,
           null,
           null,
           null,
           null,
           null,
           null,
           null,
           null,
           null,
           null,
           null,
           null,
           null,
           null,
           null,
           null,
           null,
           null,
           null,
           null,
           null,
           null,
           null,
           null,
           null
          ],
          [
           0.26901559718333334,
           0.05001356722581818,
           0.02551065000000008,
           null,
           null,
           null,
           null,
           null,
           null,
           null,
           null,
           null,
           null,
           null,
           null,
           null,
           null,
           null,
           null,
           null,
           null,
           null,
           null,
           null,
           null,
           null,
           null,
           null,
           null,
           null
          ],
          [
           0.0365940812544619,
           0.1637374304604,
           0.03144513513492064,
           0.0014751478571427556,
           null,
           null,
           null,
           null,
           null,
           null,
           null,
           null,
           null,
           null,
           null,
           null,
           null,
           null,
           null,
           null,
           null,
           null,
           null,
           null,
           null,
           null,
           null,
           null,
           null,
           null
          ],
          [
           0.07657748333375,
           0.06160341200874325,
           0.07662363156666652,
           0.008637525416666625,
           0.018242134999999937,
           null,
           null,
           null,
           null,
           null,
           null,
           null,
           null,
           null,
           null,
           null,
           null,
           null,
           null,
           null,
           null,
           null,
           null,
           null,
           null,
           null,
           null,
           null,
           null,
           null
          ],
          [
           0.11100640427899983,
           0.12944717499975572,
           0.16830826554,
           0.05452723444444452,
           0.03313626520408164,
           0.023141098750000144,
           null,
           null,
           null,
           null,
           null,
           null,
           null,
           null,
           null,
           null,
           null,
           null,
           null,
           null,
           null,
           null,
           null,
           null,
           null,
           null,
           null,
           null,
           null,
           null
          ],
          [
           0.2963949203333333,
           0.26122006425,
           0.28147539499999996,
           0.03715546444444451,
           0.0644190733333333,
           0.048142135294117594,
           0.023615961851851774,
           null,
           null,
           null,
           null,
           null,
           null,
           null,
           null,
           null,
           null,
           null,
           null,
           null,
           null,
           null,
           null,
           null,
           null,
           null,
           null,
           null,
           null,
           null
          ],
          [
           0.21217561499999998,
           0.40294685,
           0.0514460699999999,
           0.05455934666666662,
           0.17563270333333325,
           0.06460694555555568,
           0.03872763162162152,
           0.02233268833333324,
           null,
           null,
           null,
           null,
           null,
           null,
           null,
           null,
           null,
           null,
           null,
           null,
           null,
           null,
           null,
           null,
           null,
           null,
           null,
           null,
           null,
           null
          ],
          [
           0.16566974829999997,
           0.09057390124999998,
           0.06698596000000001,
           0.13472773000000005,
           0.050199587142857105,
           0.0887539770000001,
           0.07974387999999999,
           0.02239257590909094,
           0.01486299696969684,
           null,
           null,
           null,
           null,
           null,
           null,
           null,
           null,
           null,
           null,
           null,
           null,
           null,
           null,
           null,
           null,
           null,
           null,
           null,
           null,
           null
          ],
          [
           0.023020146666666685,
           0.07884821666666664,
           0.0707680258333333,
           0.01748907799999999,
           0.006387316666666587,
           0.10241190833333336,
           0.14475766600000006,
           0.10853509818181817,
           0.024315988666666843,
           0.014392187142857393,
           null,
           null,
           null,
           null,
           null,
           null,
           null,
           null,
           null,
           null,
           null,
           null,
           null,
           null,
           null,
           null,
           null,
           null,
           null,
           null
          ],
          [
           0.1615751,
           0.149121925,
           0.14047386000000006,
           0.02394115666666674,
           0.07624040500000007,
           0.00417141600000015,
           0.11418724000000013,
           0.04822931124999996,
           0.07366919999999999,
           0.008098052000000022,
           0.020937312666666763,
           null,
           null,
           null,
           null,
           null,
           null,
           null,
           null,
           null,
           null,
           null,
           null,
           null,
           null,
           null,
           null,
           null,
           null,
           null
          ],
          [
           null,
           0.06789475571428583,
           0.11437914666666682,
           0.012619775454545401,
           0.07548354999999995,
           0.0790598766666667,
           0.02546654571428575,
           0.06794436999999987,
           0.03175565285714299,
           0.08442581000000005,
           0.005285266999999982,
           0.009631006538461606,
           null,
           null,
           null,
           null,
           null,
           null,
           null,
           null,
           null,
           null,
           null,
           null,
           null,
           null,
           null,
           null,
           null,
           null
          ],
          [
           0.10757227199999997,
           0.025614920000000097,
           0.004012621666666716,
           0.08591456000000008,
           0.09270472666666663,
           0.03392646999999993,
           0.0266223000000001,
           0.017593907142857135,
           0.0330125400000002,
           0.023982867999999824,
           0.007107009999999914,
           0.03392096999999994,
           0.0068544188000000394,
           0.011328133333333268,
           null,
           null,
           null,
           null,
           null,
           null,
           null,
           null,
           null,
           null,
           null,
           null,
           null,
           null,
           null,
           null
          ],
          [
           0.07940827000000006,
           0.20284244249999994,
           0.0050382300000002544,
           0.06269309199999995,
           0.012517200000000006,
           0.029865567999999953,
           0.07075433333333325,
           0.14995560000000008,
           0.03255202625000009,
           null,
           0.06561186142857134,
           0.04198830000000009,
           0.025255927999999983,
           0.005784554999999969,
           0,
           null,
           null,
           null,
           null,
           null,
           null,
           null,
           null,
           null,
           null,
           null,
           null,
           null,
           null,
           null
          ],
          [
           0.02205667,
           0.17776235333333346,
           0.0933495849999999,
           0.06113229999999992,
           0.036284490000000225,
           0.04957434999999988,
           0.0038037000000000765,
           0.034792733333333326,
           0.07966141999999987,
           0.02099580000000001,
           0.035105516666666725,
           0.028134184999999978,
           0.006690460000000176,
           0.007150671999999969,
           0.0012283495000001698,
           4.5454545460899e-8,
           null,
           null,
           null,
           null,
           null,
           null,
           null,
           null,
           null,
           null,
           null,
           null,
           null,
           null
          ],
          [
           0.05368113333333335,
           0.029198257999999866,
           0.017201567500000015,
           0.06886260750000006,
           0.0855746133333335,
           0.03190721857142853,
           0.030776850000000078,
           0.05482778749999995,
           0.02305784285714274,
           0.013908932500000026,
           0.06276483666666666,
           0.018942499999999862,
           0.14955052999999996,
           0.005187599999999959,
           0.003338141666666683,
           0.008573694999999937,
           0,
           null,
           null,
           null,
           null,
           null,
           null,
           null,
           null,
           null,
           null,
           null,
           null,
           null
          ],
          [
           0.03391314000000001,
           0.0027703999999999507,
           0.02584431999999992,
           0,
           0.0009174249999999162,
           0.020956050000000004,
           0.03598566624999999,
           null,
           0.03509643750000002,
           0.049944150000000076,
           0.04625447500000002,
           0.049541949999999946,
           0.02908540000000004,
           0.012663253333333402,
           2.766666665765527e-7,
           0.005002549999999939,
           0.00032747299999991153,
           0,
           null,
           null,
           null,
           null,
           null,
           null,
           null,
           null,
           null,
           null,
           null,
           null
          ],
          [
           0.004092350000000078,
           0,
           0.003104925000000036,
           0.015841484999999933,
           0.04505363750000002,
           0.020911500000000083,
           0.07595711999999999,
           0.012796566666666731,
           0.00936857499999999,
           0.026951030000000098,
           0.07222659999999992,
           0.02430746666666661,
           null,
           0.02881444749999995,
           null,
           0.00899987499999999,
           null,
           0.000002958333333302754,
           0.000005430909090997638,
           null,
           null,
           null,
           null,
           null,
           null,
           null,
           null,
           null,
           null,
           null
          ],
          [
           0.029756450000000045,
           0.04366300000000001,
           0.0008728999999999543,
           0.06077660000000007,
           0.0248087560000001,
           0.016947763999999865,
           0,
           0.008208543750000019,
           0.0016527719999999135,
           0.0004654499999999784,
           0.005739696666666516,
           0.008423333333333338,
           0.0001551499999999928,
           null,
           0.014499999999999957,
           0,
           0,
           0.00033329999999998083,
           0.00009850999999994059,
           1.0000000005838672e-7,
           null,
           null,
           null,
           null,
           null,
           null,
           null,
           null,
           null,
           null
          ],
          [
           0.004521341666666845,
           0.0011426050000000743,
           0.01973527499999994,
           0.032084613333333345,
           0.011585230000000002,
           0.05022797499999998,
           0.04997778499999983,
           0.0016800566666668182,
           0,
           0.0002713399999999533,
           0.01838848000000004,
           0.00010436749999997996,
           0.0000236000000000125,
           0.00006860500000005487,
           4.999999999588667e-7,
           4.9999999918171056e-8,
           0,
           0.000006836666666676372,
           0.0003891000000000311,
           0,
           0,
           null,
           null,
           null,
           null,
           null,
           null,
           null,
           null,
           null
          ],
          [
           0.0007913999999998866,
           0.007998700000000025,
           0.009636103333333201,
           0.0017299800000000198,
           0.0023082500000000117,
           0,
           0.0015996000000000343,
           0.01946841999999993,
           0.03088309999999994,
           0.030104640000000016,
           0.0007871999999999879,
           0.00013095499999993265,
           null,
           0.00003263249999996276,
           0.00003118499999998914,
           0.0000423175000000553,
           0,
           0.000004049999999922171,
           9.999999994736442e-8,
           0,
           0,
           0,
           null,
           null,
           null,
           null,
           null,
           null,
           null,
           null
          ],
          [
           0.000029300000000009874,
           null,
           0.0024148899999999474,
           0.00026333499999997567,
           0.0005813333333334336,
           0.000045300000000025875,
           0.0035223100000000285,
           0.051622716666666846,
           null,
           0.0000031000000000336314,
           null,
           0.0035159866666667483,
           0,
           0.000008623333333290795,
           0.00011980000000000324,
           null,
           0,
           8.000000000230045e-7,
           0,
           0,
           0,
           0,
           0,
           null,
           null,
           null,
           null,
           null,
           null,
           null
          ],
          [
           0.005148200000000158,
           0.002607785000000029,
           0.00016939999999998623,
           null,
           0,
           0.00013259666666665115,
           0.0000019066666666622822,
           0.0000790400000000302,
           0.0018485799999999886,
           0.000042792499999944056,
           0.00003874000000003708,
           0.00005304999999999893,
           null,
           2.399999999846969e-7,
           null,
           1.5333333325262544e-7,
           0,
           0,
           0,
           0,
           0,
           0,
           0,
           0,
           null,
           null,
           null,
           null,
           null,
           null
          ],
          [
           0.0007913099999999895,
           0.00021054999999992052,
           0.0005563200000000545,
           0.000001229999999963205,
           null,
           0.00020933333333328363,
           0.000016279999999979644,
           0.0000050833333333777375,
           0.00001384600000009506,
           0.000044324999999956205,
           0.00017655000000005305,
           0.00007783999999999569,
           null,
           0,
           0,
           null,
           null,
           9.999999994736442e-8,
           0,
           null,
           0,
           3.333333331578814e-8,
           0,
           0,
           0,
           0,
           null,
           null,
           null,
           null
          ],
          [
           null,
           null,
           null,
           0.00037277000000002225,
           0.0000020000000000575113,
           0.00006890000000003837,
           0.000010883333333211453,
           0.00001180000000000625,
           4.9999999918171056e-8,
           0.000008986666666710441,
           null,
           0.0000791533333334149,
           0.0000013100000000321188,
           null,
           null,
           0.00000780000000000225,
           null,
           0,
           null,
           null,
           0,
           null,
           0,
           0,
           0,
           0,
           0,
           null,
           null,
           null
          ],
          [
           null,
           null,
           0.000024750000000017813,
           0,
           0.0000408800000000209,
           0,
           0,
           0.00012214999999993204,
           0.0000018000000000517602,
           0.000011699999999947863,
           0.0004203000000000401,
           null,
           0,
           0.00002558499999993913,
           null,
           null,
           null,
           null,
           0,
           null,
           null,
           0,
           null,
           0,
           0,
           0,
           0,
           null,
           null,
           null
          ],
          [
           0.000007399999999990747,
           null,
           0,
           0.00000109999999997612,
           0.0000025999999999637424,
           null,
           3.333333331578814e-8,
           9.999999994736442e-8,
           null,
           0,
           0.0000010733333333234896,
           0.000024259999999998172,
           null,
           0.000004050000000033194,
           null,
           9.499999999995623e-7,
           0,
           null,
           0.0000012000000000345068,
           null,
           null,
           0,
           null,
           0,
           null,
           0,
           null,
           0,
           0,
           null
          ],
          [
           null,
           null,
           null,
           0,
           null,
           0.000005550000000020816,
           null,
           2.9999999995311555e-7,
           0.0000012999999999818712,
           0,
           1.199999999368373e-7,
           0.000004650000000050447,
           0,
           0.000001999999999946489,
           null,
           null,
           null,
           0,
           null,
           null,
           null,
           null,
           null,
           0,
           0,
           0,
           0,
           null,
           0,
           null
          ],
          [
           null,
           4.999999999588667e-7,
           0,
           null,
           2.399999999846969e-7,
           null,
           null,
           0.000014900000000039881,
           null,
           null,
           null,
           null,
           null,
           0.000018599999999979744,
           6.500000000464468e-7,
           null,
           null,
           0,
           null,
           null,
           0,
           null,
           null,
           0,
           null,
           0,
           0,
           0,
           0,
           0
          ],
          [
           9.999999994736442e-8,
           0,
           null,
           6.000000000172534e-7,
           null,
           0,
           null,
           2.399999999846969e-7,
           null,
           null,
           0,
           null,
           null,
           null,
           0,
           null,
           0,
           0,
           null,
           0,
           0,
           null,
           null,
           null,
           null,
           null,
           0,
           0,
           null,
           null
          ],
          [
           null,
           null,
           null,
           null,
           0,
           null,
           null,
           0,
           null,
           null,
           null,
           null,
           null,
           0,
           null,
           null,
           null,
           null,
           null,
           null,
           null,
           null,
           null,
           null,
           null,
           null,
           null,
           null,
           null,
           null
          ]
         ]
        }
       ],
       "layout": {
        "coloraxis": {
         "colorbar": {
          "title": {
           "text": "True - predicted CLs"
          }
         },
         "colorscale": [
          [
           0,
           "#0d0887"
          ],
          [
           0.1111111111111111,
           "#46039f"
          ],
          [
           0.2222222222222222,
           "#7201a8"
          ],
          [
           0.3333333333333333,
           "#9c179e"
          ],
          [
           0.4444444444444444,
           "#bd3786"
          ],
          [
           0.5555555555555556,
           "#d8576b"
          ],
          [
           0.6666666666666666,
           "#ed7953"
          ],
          [
           0.7777777777777778,
           "#fb9f3a"
          ],
          [
           0.8888888888888888,
           "#fdca26"
          ],
          [
           1,
           "#f0f921"
          ]
         ]
        },
        "height": 600,
        "template": {
         "data": {
          "bar": [
           {
            "error_x": {
             "color": "#2a3f5f"
            },
            "error_y": {
             "color": "#2a3f5f"
            },
            "marker": {
             "line": {
              "color": "#E5ECF6",
              "width": 0.5
             },
             "pattern": {
              "fillmode": "overlay",
              "size": 10,
              "solidity": 0.2
             }
            },
            "type": "bar"
           }
          ],
          "barpolar": [
           {
            "marker": {
             "line": {
              "color": "#E5ECF6",
              "width": 0.5
             },
             "pattern": {
              "fillmode": "overlay",
              "size": 10,
              "solidity": 0.2
             }
            },
            "type": "barpolar"
           }
          ],
          "carpet": [
           {
            "aaxis": {
             "endlinecolor": "#2a3f5f",
             "gridcolor": "white",
             "linecolor": "white",
             "minorgridcolor": "white",
             "startlinecolor": "#2a3f5f"
            },
            "baxis": {
             "endlinecolor": "#2a3f5f",
             "gridcolor": "white",
             "linecolor": "white",
             "minorgridcolor": "white",
             "startlinecolor": "#2a3f5f"
            },
            "type": "carpet"
           }
          ],
          "choropleth": [
           {
            "colorbar": {
             "outlinewidth": 0,
             "ticks": ""
            },
            "type": "choropleth"
           }
          ],
          "contour": [
           {
            "colorbar": {
             "outlinewidth": 0,
             "ticks": ""
            },
            "colorscale": [
             [
              0,
              "#0d0887"
             ],
             [
              0.1111111111111111,
              "#46039f"
             ],
             [
              0.2222222222222222,
              "#7201a8"
             ],
             [
              0.3333333333333333,
              "#9c179e"
             ],
             [
              0.4444444444444444,
              "#bd3786"
             ],
             [
              0.5555555555555556,
              "#d8576b"
             ],
             [
              0.6666666666666666,
              "#ed7953"
             ],
             [
              0.7777777777777778,
              "#fb9f3a"
             ],
             [
              0.8888888888888888,
              "#fdca26"
             ],
             [
              1,
              "#f0f921"
             ]
            ],
            "type": "contour"
           }
          ],
          "contourcarpet": [
           {
            "colorbar": {
             "outlinewidth": 0,
             "ticks": ""
            },
            "type": "contourcarpet"
           }
          ],
          "heatmap": [
           {
            "colorbar": {
             "outlinewidth": 0,
             "ticks": ""
            },
            "colorscale": [
             [
              0,
              "#0d0887"
             ],
             [
              0.1111111111111111,
              "#46039f"
             ],
             [
              0.2222222222222222,
              "#7201a8"
             ],
             [
              0.3333333333333333,
              "#9c179e"
             ],
             [
              0.4444444444444444,
              "#bd3786"
             ],
             [
              0.5555555555555556,
              "#d8576b"
             ],
             [
              0.6666666666666666,
              "#ed7953"
             ],
             [
              0.7777777777777778,
              "#fb9f3a"
             ],
             [
              0.8888888888888888,
              "#fdca26"
             ],
             [
              1,
              "#f0f921"
             ]
            ],
            "type": "heatmap"
           }
          ],
          "heatmapgl": [
           {
            "colorbar": {
             "outlinewidth": 0,
             "ticks": ""
            },
            "colorscale": [
             [
              0,
              "#0d0887"
             ],
             [
              0.1111111111111111,
              "#46039f"
             ],
             [
              0.2222222222222222,
              "#7201a8"
             ],
             [
              0.3333333333333333,
              "#9c179e"
             ],
             [
              0.4444444444444444,
              "#bd3786"
             ],
             [
              0.5555555555555556,
              "#d8576b"
             ],
             [
              0.6666666666666666,
              "#ed7953"
             ],
             [
              0.7777777777777778,
              "#fb9f3a"
             ],
             [
              0.8888888888888888,
              "#fdca26"
             ],
             [
              1,
              "#f0f921"
             ]
            ],
            "type": "heatmapgl"
           }
          ],
          "histogram": [
           {
            "marker": {
             "pattern": {
              "fillmode": "overlay",
              "size": 10,
              "solidity": 0.2
             }
            },
            "type": "histogram"
           }
          ],
          "histogram2d": [
           {
            "colorbar": {
             "outlinewidth": 0,
             "ticks": ""
            },
            "colorscale": [
             [
              0,
              "#0d0887"
             ],
             [
              0.1111111111111111,
              "#46039f"
             ],
             [
              0.2222222222222222,
              "#7201a8"
             ],
             [
              0.3333333333333333,
              "#9c179e"
             ],
             [
              0.4444444444444444,
              "#bd3786"
             ],
             [
              0.5555555555555556,
              "#d8576b"
             ],
             [
              0.6666666666666666,
              "#ed7953"
             ],
             [
              0.7777777777777778,
              "#fb9f3a"
             ],
             [
              0.8888888888888888,
              "#fdca26"
             ],
             [
              1,
              "#f0f921"
             ]
            ],
            "type": "histogram2d"
           }
          ],
          "histogram2dcontour": [
           {
            "colorbar": {
             "outlinewidth": 0,
             "ticks": ""
            },
            "colorscale": [
             [
              0,
              "#0d0887"
             ],
             [
              0.1111111111111111,
              "#46039f"
             ],
             [
              0.2222222222222222,
              "#7201a8"
             ],
             [
              0.3333333333333333,
              "#9c179e"
             ],
             [
              0.4444444444444444,
              "#bd3786"
             ],
             [
              0.5555555555555556,
              "#d8576b"
             ],
             [
              0.6666666666666666,
              "#ed7953"
             ],
             [
              0.7777777777777778,
              "#fb9f3a"
             ],
             [
              0.8888888888888888,
              "#fdca26"
             ],
             [
              1,
              "#f0f921"
             ]
            ],
            "type": "histogram2dcontour"
           }
          ],
          "mesh3d": [
           {
            "colorbar": {
             "outlinewidth": 0,
             "ticks": ""
            },
            "type": "mesh3d"
           }
          ],
          "parcoords": [
           {
            "line": {
             "colorbar": {
              "outlinewidth": 0,
              "ticks": ""
             }
            },
            "type": "parcoords"
           }
          ],
          "pie": [
           {
            "automargin": true,
            "type": "pie"
           }
          ],
          "scatter": [
           {
            "fillpattern": {
             "fillmode": "overlay",
             "size": 10,
             "solidity": 0.2
            },
            "type": "scatter"
           }
          ],
          "scatter3d": [
           {
            "line": {
             "colorbar": {
              "outlinewidth": 0,
              "ticks": ""
             }
            },
            "marker": {
             "colorbar": {
              "outlinewidth": 0,
              "ticks": ""
             }
            },
            "type": "scatter3d"
           }
          ],
          "scattercarpet": [
           {
            "marker": {
             "colorbar": {
              "outlinewidth": 0,
              "ticks": ""
             }
            },
            "type": "scattercarpet"
           }
          ],
          "scattergeo": [
           {
            "marker": {
             "colorbar": {
              "outlinewidth": 0,
              "ticks": ""
             }
            },
            "type": "scattergeo"
           }
          ],
          "scattergl": [
           {
            "marker": {
             "colorbar": {
              "outlinewidth": 0,
              "ticks": ""
             }
            },
            "type": "scattergl"
           }
          ],
          "scattermapbox": [
           {
            "marker": {
             "colorbar": {
              "outlinewidth": 0,
              "ticks": ""
             }
            },
            "type": "scattermapbox"
           }
          ],
          "scatterpolar": [
           {
            "marker": {
             "colorbar": {
              "outlinewidth": 0,
              "ticks": ""
             }
            },
            "type": "scatterpolar"
           }
          ],
          "scatterpolargl": [
           {
            "marker": {
             "colorbar": {
              "outlinewidth": 0,
              "ticks": ""
             }
            },
            "type": "scatterpolargl"
           }
          ],
          "scatterternary": [
           {
            "marker": {
             "colorbar": {
              "outlinewidth": 0,
              "ticks": ""
             }
            },
            "type": "scatterternary"
           }
          ],
          "surface": [
           {
            "colorbar": {
             "outlinewidth": 0,
             "ticks": ""
            },
            "colorscale": [
             [
              0,
              "#0d0887"
             ],
             [
              0.1111111111111111,
              "#46039f"
             ],
             [
              0.2222222222222222,
              "#7201a8"
             ],
             [
              0.3333333333333333,
              "#9c179e"
             ],
             [
              0.4444444444444444,
              "#bd3786"
             ],
             [
              0.5555555555555556,
              "#d8576b"
             ],
             [
              0.6666666666666666,
              "#ed7953"
             ],
             [
              0.7777777777777778,
              "#fb9f3a"
             ],
             [
              0.8888888888888888,
              "#fdca26"
             ],
             [
              1,
              "#f0f921"
             ]
            ],
            "type": "surface"
           }
          ],
          "table": [
           {
            "cells": {
             "fill": {
              "color": "#EBF0F8"
             },
             "line": {
              "color": "white"
             }
            },
            "header": {
             "fill": {
              "color": "#C8D4E3"
             },
             "line": {
              "color": "white"
             }
            },
            "type": "table"
           }
          ]
         },
         "layout": {
          "annotationdefaults": {
           "arrowcolor": "#2a3f5f",
           "arrowhead": 0,
           "arrowwidth": 1
          },
          "autotypenumbers": "strict",
          "coloraxis": {
           "colorbar": {
            "outlinewidth": 0,
            "ticks": ""
           }
          },
          "colorscale": {
           "diverging": [
            [
             0,
             "#8e0152"
            ],
            [
             0.1,
             "#c51b7d"
            ],
            [
             0.2,
             "#de77ae"
            ],
            [
             0.3,
             "#f1b6da"
            ],
            [
             0.4,
             "#fde0ef"
            ],
            [
             0.5,
             "#f7f7f7"
            ],
            [
             0.6,
             "#e6f5d0"
            ],
            [
             0.7,
             "#b8e186"
            ],
            [
             0.8,
             "#7fbc41"
            ],
            [
             0.9,
             "#4d9221"
            ],
            [
             1,
             "#276419"
            ]
           ],
           "sequential": [
            [
             0,
             "#0d0887"
            ],
            [
             0.1111111111111111,
             "#46039f"
            ],
            [
             0.2222222222222222,
             "#7201a8"
            ],
            [
             0.3333333333333333,
             "#9c179e"
            ],
            [
             0.4444444444444444,
             "#bd3786"
            ],
            [
             0.5555555555555556,
             "#d8576b"
            ],
            [
             0.6666666666666666,
             "#ed7953"
            ],
            [
             0.7777777777777778,
             "#fb9f3a"
            ],
            [
             0.8888888888888888,
             "#fdca26"
            ],
            [
             1,
             "#f0f921"
            ]
           ],
           "sequentialminus": [
            [
             0,
             "#0d0887"
            ],
            [
             0.1111111111111111,
             "#46039f"
            ],
            [
             0.2222222222222222,
             "#7201a8"
            ],
            [
             0.3333333333333333,
             "#9c179e"
            ],
            [
             0.4444444444444444,
             "#bd3786"
            ],
            [
             0.5555555555555556,
             "#d8576b"
            ],
            [
             0.6666666666666666,
             "#ed7953"
            ],
            [
             0.7777777777777778,
             "#fb9f3a"
            ],
            [
             0.8888888888888888,
             "#fdca26"
            ],
            [
             1,
             "#f0f921"
            ]
           ]
          },
          "colorway": [
           "#636efa",
           "#EF553B",
           "#00cc96",
           "#ab63fa",
           "#FFA15A",
           "#19d3f3",
           "#FF6692",
           "#B6E880",
           "#FF97FF",
           "#FECB52"
          ],
          "font": {
           "color": "#2a3f5f"
          },
          "geo": {
           "bgcolor": "white",
           "lakecolor": "white",
           "landcolor": "#E5ECF6",
           "showlakes": true,
           "showland": true,
           "subunitcolor": "white"
          },
          "hoverlabel": {
           "align": "left"
          },
          "hovermode": "closest",
          "mapbox": {
           "style": "light"
          },
          "paper_bgcolor": "white",
          "plot_bgcolor": "#E5ECF6",
          "polar": {
           "angularaxis": {
            "gridcolor": "white",
            "linecolor": "white",
            "ticks": ""
           },
           "bgcolor": "#E5ECF6",
           "radialaxis": {
            "gridcolor": "white",
            "linecolor": "white",
            "ticks": ""
           }
          },
          "scene": {
           "xaxis": {
            "backgroundcolor": "#E5ECF6",
            "gridcolor": "white",
            "gridwidth": 2,
            "linecolor": "white",
            "showbackground": true,
            "ticks": "",
            "zerolinecolor": "white"
           },
           "yaxis": {
            "backgroundcolor": "#E5ECF6",
            "gridcolor": "white",
            "gridwidth": 2,
            "linecolor": "white",
            "showbackground": true,
            "ticks": "",
            "zerolinecolor": "white"
           },
           "zaxis": {
            "backgroundcolor": "#E5ECF6",
            "gridcolor": "white",
            "gridwidth": 2,
            "linecolor": "white",
            "showbackground": true,
            "ticks": "",
            "zerolinecolor": "white"
           }
          },
          "shapedefaults": {
           "line": {
            "color": "#2a3f5f"
           }
          },
          "ternary": {
           "aaxis": {
            "gridcolor": "white",
            "linecolor": "white",
            "ticks": ""
           },
           "baxis": {
            "gridcolor": "white",
            "linecolor": "white",
            "ticks": ""
           },
           "bgcolor": "#E5ECF6",
           "caxis": {
            "gridcolor": "white",
            "linecolor": "white",
            "ticks": ""
           }
          },
          "title": {
           "x": 0.05
          },
          "xaxis": {
           "automargin": true,
           "gridcolor": "white",
           "linecolor": "white",
           "ticks": "",
           "title": {
            "standoff": 15
           },
           "zerolinecolor": "white",
           "zerolinewidth": 2
          },
          "yaxis": {
           "automargin": true,
           "gridcolor": "white",
           "linecolor": "white",
           "ticks": "",
           "title": {
            "standoff": 15
           },
           "zerolinecolor": "white",
           "zerolinewidth": 2
          }
         }
        },
        "title": {
         "text": "Difference 3LOnshell CLs heatmap"
        },
        "width": 800,
        "xaxis": {
         "anchor": "y",
         "constrain": "domain",
         "domain": [
          0,
          1
         ],
         "scaleanchor": "y",
         "title": {
          "text": "m_chi_10 [GeV]"
         }
        },
        "yaxis": {
         "anchor": "x",
         "autorange": true,
         "constrain": "domain",
         "domain": [
          0,
          1
         ],
         "title": {
          "text": "m_chi_20 [GeV]"
         }
        }
       }
      },
      "text/html": [
       "<div>                            <div id=\"2928d06b-57fa-486d-bb19-fb732d45290f\" class=\"plotly-graph-div\" style=\"height:600px; width:800px;\"></div>            <script type=\"text/javascript\">                require([\"plotly\"], function(Plotly) {                    window.PLOTLYENV=window.PLOTLYENV || {};                                    if (document.getElementById(\"2928d06b-57fa-486d-bb19-fb732d45290f\")) {                    Plotly.newPlot(                        \"2928d06b-57fa-486d-bb19-fb732d45290f\",                        [{\"coloraxis\":\"coloraxis\",\"name\":\"0\",\"x\":[0.0,17.24137931034483,34.48275862068966,51.72413793103449,68.96551724137932,86.20689655172414,103.44827586206898,120.68965517241381,137.93103448275863,155.17241379310346,172.41379310344828,189.6551724137931,206.89655172413796,224.1379310344828,241.37931034482762,258.62068965517244,275.86206896551727,293.1034482758621,310.3448275862069,327.58620689655174,344.82758620689657,362.0689655172414,379.3103448275862,396.55172413793105,413.79310344827593,431.03448275862075,448.2758620689656,465.5172413793104,482.75862068965523,500.0],\"y\":[0.0,17.24137931034483,34.48275862068966,51.72413793103449,68.96551724137932,86.20689655172414,103.44827586206898,120.68965517241381,137.93103448275863,155.17241379310346,172.41379310344828,189.6551724137931,206.89655172413796,224.1379310344828,241.37931034482762,258.62068965517244,275.86206896551727,293.1034482758621,310.3448275862069,327.58620689655174,344.82758620689657,362.0689655172414,379.3103448275862,396.55172413793105,413.79310344827593,431.03448275862075,448.2758620689656,465.5172413793104,482.75862068965523,500.0],\"z\":[[null,null,null,null,null,null,null,null,null,null,null,null,null,null,null,null,null,null,null,null,null,null,null,null,null,null,null,null,null,null],[0.26901559718333334,0.05001356722581818,0.02551065000000008,null,null,null,null,null,null,null,null,null,null,null,null,null,null,null,null,null,null,null,null,null,null,null,null,null,null,null],[0.0365940812544619,0.1637374304604,0.03144513513492064,0.0014751478571427556,null,null,null,null,null,null,null,null,null,null,null,null,null,null,null,null,null,null,null,null,null,null,null,null,null,null],[0.07657748333375,0.06160341200874325,0.07662363156666652,0.008637525416666625,0.018242134999999937,null,null,null,null,null,null,null,null,null,null,null,null,null,null,null,null,null,null,null,null,null,null,null,null,null],[0.11100640427899983,0.12944717499975572,0.16830826554,0.05452723444444452,0.03313626520408164,0.023141098750000144,null,null,null,null,null,null,null,null,null,null,null,null,null,null,null,null,null,null,null,null,null,null,null,null],[0.2963949203333333,0.26122006425,0.28147539499999996,0.03715546444444451,0.0644190733333333,0.048142135294117594,0.023615961851851774,null,null,null,null,null,null,null,null,null,null,null,null,null,null,null,null,null,null,null,null,null,null,null],[0.21217561499999998,0.40294685,0.0514460699999999,0.05455934666666662,0.17563270333333325,0.06460694555555568,0.03872763162162152,0.02233268833333324,null,null,null,null,null,null,null,null,null,null,null,null,null,null,null,null,null,null,null,null,null,null],[0.16566974829999997,0.09057390124999998,0.06698596000000001,0.13472773000000005,0.050199587142857105,0.0887539770000001,0.07974387999999999,0.02239257590909094,0.01486299696969684,null,null,null,null,null,null,null,null,null,null,null,null,null,null,null,null,null,null,null,null,null],[0.023020146666666685,0.07884821666666664,0.0707680258333333,0.01748907799999999,0.006387316666666587,0.10241190833333336,0.14475766600000006,0.10853509818181817,0.024315988666666843,0.014392187142857393,null,null,null,null,null,null,null,null,null,null,null,null,null,null,null,null,null,null,null,null],[0.1615751,0.149121925,0.14047386000000006,0.02394115666666674,0.07624040500000007,0.00417141600000015,0.11418724000000013,0.04822931124999996,0.07366919999999999,0.008098052000000022,0.020937312666666763,null,null,null,null,null,null,null,null,null,null,null,null,null,null,null,null,null,null,null],[null,0.06789475571428583,0.11437914666666682,0.012619775454545401,0.07548354999999995,0.0790598766666667,0.02546654571428575,0.06794436999999987,0.03175565285714299,0.08442581000000005,0.005285266999999982,0.009631006538461606,null,null,null,null,null,null,null,null,null,null,null,null,null,null,null,null,null,null],[0.10757227199999997,0.025614920000000097,0.004012621666666716,0.08591456000000008,0.09270472666666663,0.03392646999999993,0.0266223000000001,0.017593907142857135,0.0330125400000002,0.023982867999999824,0.007107009999999914,0.03392096999999994,0.0068544188000000394,0.011328133333333268,null,null,null,null,null,null,null,null,null,null,null,null,null,null,null,null],[0.07940827000000006,0.20284244249999994,0.0050382300000002544,0.06269309199999995,0.012517200000000006,0.029865567999999953,0.07075433333333325,0.14995560000000008,0.03255202625000009,null,0.06561186142857134,0.04198830000000009,0.025255927999999983,0.005784554999999969,0.0,null,null,null,null,null,null,null,null,null,null,null,null,null,null,null],[0.02205667,0.17776235333333346,0.0933495849999999,0.06113229999999992,0.036284490000000225,0.04957434999999988,0.0038037000000000765,0.034792733333333326,0.07966141999999987,0.02099580000000001,0.035105516666666725,0.028134184999999978,0.006690460000000176,0.007150671999999969,0.0012283495000001698,4.5454545460899e-08,null,null,null,null,null,null,null,null,null,null,null,null,null,null],[0.05368113333333335,0.029198257999999866,0.017201567500000015,0.06886260750000006,0.0855746133333335,0.03190721857142853,0.030776850000000078,0.05482778749999995,0.02305784285714274,0.013908932500000026,0.06276483666666666,0.018942499999999862,0.14955052999999996,0.005187599999999959,0.003338141666666683,0.008573694999999937,0.0,null,null,null,null,null,null,null,null,null,null,null,null,null],[0.03391314000000001,0.0027703999999999507,0.02584431999999992,0.0,0.0009174249999999162,0.020956050000000004,0.03598566624999999,null,0.03509643750000002,0.049944150000000076,0.04625447500000002,0.049541949999999946,0.02908540000000004,0.012663253333333402,2.766666665765527e-07,0.005002549999999939,0.00032747299999991153,0.0,null,null,null,null,null,null,null,null,null,null,null,null],[0.004092350000000078,0.0,0.003104925000000036,0.015841484999999933,0.04505363750000002,0.020911500000000083,0.07595711999999999,0.012796566666666731,0.00936857499999999,0.026951030000000098,0.07222659999999992,0.02430746666666661,null,0.02881444749999995,null,0.00899987499999999,null,2.958333333302754e-06,5.430909090997638e-06,null,null,null,null,null,null,null,null,null,null,null],[0.029756450000000045,0.04366300000000001,0.0008728999999999543,0.06077660000000007,0.0248087560000001,0.016947763999999865,0.0,0.008208543750000019,0.0016527719999999135,0.0004654499999999784,0.005739696666666516,0.008423333333333338,0.0001551499999999928,null,0.014499999999999957,0.0,0.0,0.00033329999999998083,9.850999999994059e-05,1.0000000005838672e-07,null,null,null,null,null,null,null,null,null,null],[0.004521341666666845,0.0011426050000000743,0.01973527499999994,0.032084613333333345,0.011585230000000002,0.05022797499999998,0.04997778499999983,0.0016800566666668182,0.0,0.0002713399999999533,0.01838848000000004,0.00010436749999997996,2.36000000000125e-05,6.860500000005487e-05,4.999999999588667e-07,4.9999999918171056e-08,0.0,6.836666666676372e-06,0.0003891000000000311,0.0,0.0,null,null,null,null,null,null,null,null,null],[0.0007913999999998866,0.007998700000000025,0.009636103333333201,0.0017299800000000198,0.0023082500000000117,0.0,0.0015996000000000343,0.01946841999999993,0.03088309999999994,0.030104640000000016,0.0007871999999999879,0.00013095499999993265,null,3.263249999996276e-05,3.118499999998914e-05,4.23175000000553e-05,0.0,4.049999999922171e-06,9.999999994736442e-08,0.0,0.0,0.0,null,null,null,null,null,null,null,null],[2.9300000000009874e-05,null,0.0024148899999999474,0.00026333499999997567,0.0005813333333334336,4.5300000000025875e-05,0.0035223100000000285,0.051622716666666846,null,3.1000000000336314e-06,null,0.0035159866666667483,0.0,8.623333333290795e-06,0.00011980000000000324,null,0.0,8.000000000230045e-07,0.0,0.0,0.0,0.0,0.0,null,null,null,null,null,null,null],[0.005148200000000158,0.002607785000000029,0.00016939999999998623,null,0.0,0.00013259666666665115,1.9066666666622822e-06,7.90400000000302e-05,0.0018485799999999886,4.2792499999944056e-05,3.874000000003708e-05,5.304999999999893e-05,null,2.399999999846969e-07,null,1.5333333325262544e-07,0.0,0.0,0.0,0.0,0.0,0.0,0.0,0.0,null,null,null,null,null,null],[0.0007913099999999895,0.00021054999999992052,0.0005563200000000545,1.229999999963205e-06,null,0.00020933333333328363,1.6279999999979644e-05,5.0833333333777375e-06,1.384600000009506e-05,4.4324999999956205e-05,0.00017655000000005305,7.783999999999569e-05,null,0.0,0.0,null,null,9.999999994736442e-08,0.0,null,0.0,3.333333331578814e-08,0.0,0.0,0.0,0.0,null,null,null,null],[null,null,null,0.00037277000000002225,2.0000000000575113e-06,6.890000000003837e-05,1.0883333333211453e-05,1.180000000000625e-05,4.9999999918171056e-08,8.986666666710441e-06,null,7.91533333334149e-05,1.3100000000321188e-06,null,null,7.80000000000225e-06,null,0.0,null,null,0.0,null,0.0,0.0,0.0,0.0,0.0,null,null,null],[null,null,2.4750000000017813e-05,0.0,4.08800000000209e-05,0.0,0.0,0.00012214999999993204,1.8000000000517602e-06,1.1699999999947863e-05,0.0004203000000000401,null,0.0,2.558499999993913e-05,null,null,null,null,0.0,null,null,0.0,null,0.0,0.0,0.0,0.0,null,null,null],[7.399999999990747e-06,null,0.0,1.09999999997612e-06,2.5999999999637424e-06,null,3.333333331578814e-08,9.999999994736442e-08,null,0.0,1.0733333333234896e-06,2.4259999999998172e-05,null,4.050000000033194e-06,null,9.499999999995623e-07,0.0,null,1.2000000000345068e-06,null,null,0.0,null,0.0,null,0.0,null,0.0,0.0,null],[null,null,null,0.0,null,5.550000000020816e-06,null,2.9999999995311555e-07,1.2999999999818712e-06,0.0,1.199999999368373e-07,4.650000000050447e-06,0.0,1.999999999946489e-06,null,null,null,0.0,null,null,null,null,null,0.0,0.0,0.0,0.0,null,0.0,null],[null,4.999999999588667e-07,0.0,null,2.399999999846969e-07,null,null,1.4900000000039881e-05,null,null,null,null,null,1.8599999999979744e-05,6.500000000464468e-07,null,null,0.0,null,null,0.0,null,null,0.0,null,0.0,0.0,0.0,0.0,0.0],[9.999999994736442e-08,0.0,null,6.000000000172534e-07,null,0.0,null,2.399999999846969e-07,null,null,0.0,null,null,null,0.0,null,0.0,0.0,null,0.0,0.0,null,null,null,null,null,0.0,0.0,null,null],[null,null,null,null,0.0,null,null,0.0,null,null,null,null,null,0.0,null,null,null,null,null,null,null,null,null,null,null,null,null,null,null,null]],\"type\":\"heatmap\",\"xaxis\":\"x\",\"yaxis\":\"y\",\"hovertemplate\":\"m_chi_10 [GeV]: %{x}\\u003cbr\\u003em_chi_20 [GeV]: %{y}\\u003cbr\\u003eTrue - predicted CLs: %{z}\\u003cextra\\u003e\\u003c\\u002fextra\\u003e\"}],                        {\"template\":{\"data\":{\"histogram2dcontour\":[{\"type\":\"histogram2dcontour\",\"colorbar\":{\"outlinewidth\":0,\"ticks\":\"\"},\"colorscale\":[[0.0,\"#0d0887\"],[0.1111111111111111,\"#46039f\"],[0.2222222222222222,\"#7201a8\"],[0.3333333333333333,\"#9c179e\"],[0.4444444444444444,\"#bd3786\"],[0.5555555555555556,\"#d8576b\"],[0.6666666666666666,\"#ed7953\"],[0.7777777777777778,\"#fb9f3a\"],[0.8888888888888888,\"#fdca26\"],[1.0,\"#f0f921\"]]}],\"choropleth\":[{\"type\":\"choropleth\",\"colorbar\":{\"outlinewidth\":0,\"ticks\":\"\"}}],\"histogram2d\":[{\"type\":\"histogram2d\",\"colorbar\":{\"outlinewidth\":0,\"ticks\":\"\"},\"colorscale\":[[0.0,\"#0d0887\"],[0.1111111111111111,\"#46039f\"],[0.2222222222222222,\"#7201a8\"],[0.3333333333333333,\"#9c179e\"],[0.4444444444444444,\"#bd3786\"],[0.5555555555555556,\"#d8576b\"],[0.6666666666666666,\"#ed7953\"],[0.7777777777777778,\"#fb9f3a\"],[0.8888888888888888,\"#fdca26\"],[1.0,\"#f0f921\"]]}],\"heatmap\":[{\"type\":\"heatmap\",\"colorbar\":{\"outlinewidth\":0,\"ticks\":\"\"},\"colorscale\":[[0.0,\"#0d0887\"],[0.1111111111111111,\"#46039f\"],[0.2222222222222222,\"#7201a8\"],[0.3333333333333333,\"#9c179e\"],[0.4444444444444444,\"#bd3786\"],[0.5555555555555556,\"#d8576b\"],[0.6666666666666666,\"#ed7953\"],[0.7777777777777778,\"#fb9f3a\"],[0.8888888888888888,\"#fdca26\"],[1.0,\"#f0f921\"]]}],\"heatmapgl\":[{\"type\":\"heatmapgl\",\"colorbar\":{\"outlinewidth\":0,\"ticks\":\"\"},\"colorscale\":[[0.0,\"#0d0887\"],[0.1111111111111111,\"#46039f\"],[0.2222222222222222,\"#7201a8\"],[0.3333333333333333,\"#9c179e\"],[0.4444444444444444,\"#bd3786\"],[0.5555555555555556,\"#d8576b\"],[0.6666666666666666,\"#ed7953\"],[0.7777777777777778,\"#fb9f3a\"],[0.8888888888888888,\"#fdca26\"],[1.0,\"#f0f921\"]]}],\"contourcarpet\":[{\"type\":\"contourcarpet\",\"colorbar\":{\"outlinewidth\":0,\"ticks\":\"\"}}],\"contour\":[{\"type\":\"contour\",\"colorbar\":{\"outlinewidth\":0,\"ticks\":\"\"},\"colorscale\":[[0.0,\"#0d0887\"],[0.1111111111111111,\"#46039f\"],[0.2222222222222222,\"#7201a8\"],[0.3333333333333333,\"#9c179e\"],[0.4444444444444444,\"#bd3786\"],[0.5555555555555556,\"#d8576b\"],[0.6666666666666666,\"#ed7953\"],[0.7777777777777778,\"#fb9f3a\"],[0.8888888888888888,\"#fdca26\"],[1.0,\"#f0f921\"]]}],\"surface\":[{\"type\":\"surface\",\"colorbar\":{\"outlinewidth\":0,\"ticks\":\"\"},\"colorscale\":[[0.0,\"#0d0887\"],[0.1111111111111111,\"#46039f\"],[0.2222222222222222,\"#7201a8\"],[0.3333333333333333,\"#9c179e\"],[0.4444444444444444,\"#bd3786\"],[0.5555555555555556,\"#d8576b\"],[0.6666666666666666,\"#ed7953\"],[0.7777777777777778,\"#fb9f3a\"],[0.8888888888888888,\"#fdca26\"],[1.0,\"#f0f921\"]]}],\"mesh3d\":[{\"type\":\"mesh3d\",\"colorbar\":{\"outlinewidth\":0,\"ticks\":\"\"}}],\"scatter\":[{\"fillpattern\":{\"fillmode\":\"overlay\",\"size\":10,\"solidity\":0.2},\"type\":\"scatter\"}],\"parcoords\":[{\"type\":\"parcoords\",\"line\":{\"colorbar\":{\"outlinewidth\":0,\"ticks\":\"\"}}}],\"scatterpolargl\":[{\"type\":\"scatterpolargl\",\"marker\":{\"colorbar\":{\"outlinewidth\":0,\"ticks\":\"\"}}}],\"bar\":[{\"error_x\":{\"color\":\"#2a3f5f\"},\"error_y\":{\"color\":\"#2a3f5f\"},\"marker\":{\"line\":{\"color\":\"#E5ECF6\",\"width\":0.5},\"pattern\":{\"fillmode\":\"overlay\",\"size\":10,\"solidity\":0.2}},\"type\":\"bar\"}],\"scattergeo\":[{\"type\":\"scattergeo\",\"marker\":{\"colorbar\":{\"outlinewidth\":0,\"ticks\":\"\"}}}],\"scatterpolar\":[{\"type\":\"scatterpolar\",\"marker\":{\"colorbar\":{\"outlinewidth\":0,\"ticks\":\"\"}}}],\"histogram\":[{\"marker\":{\"pattern\":{\"fillmode\":\"overlay\",\"size\":10,\"solidity\":0.2}},\"type\":\"histogram\"}],\"scattergl\":[{\"type\":\"scattergl\",\"marker\":{\"colorbar\":{\"outlinewidth\":0,\"ticks\":\"\"}}}],\"scatter3d\":[{\"type\":\"scatter3d\",\"line\":{\"colorbar\":{\"outlinewidth\":0,\"ticks\":\"\"}},\"marker\":{\"colorbar\":{\"outlinewidth\":0,\"ticks\":\"\"}}}],\"scattermapbox\":[{\"type\":\"scattermapbox\",\"marker\":{\"colorbar\":{\"outlinewidth\":0,\"ticks\":\"\"}}}],\"scatterternary\":[{\"type\":\"scatterternary\",\"marker\":{\"colorbar\":{\"outlinewidth\":0,\"ticks\":\"\"}}}],\"scattercarpet\":[{\"type\":\"scattercarpet\",\"marker\":{\"colorbar\":{\"outlinewidth\":0,\"ticks\":\"\"}}}],\"carpet\":[{\"aaxis\":{\"endlinecolor\":\"#2a3f5f\",\"gridcolor\":\"white\",\"linecolor\":\"white\",\"minorgridcolor\":\"white\",\"startlinecolor\":\"#2a3f5f\"},\"baxis\":{\"endlinecolor\":\"#2a3f5f\",\"gridcolor\":\"white\",\"linecolor\":\"white\",\"minorgridcolor\":\"white\",\"startlinecolor\":\"#2a3f5f\"},\"type\":\"carpet\"}],\"table\":[{\"cells\":{\"fill\":{\"color\":\"#EBF0F8\"},\"line\":{\"color\":\"white\"}},\"header\":{\"fill\":{\"color\":\"#C8D4E3\"},\"line\":{\"color\":\"white\"}},\"type\":\"table\"}],\"barpolar\":[{\"marker\":{\"line\":{\"color\":\"#E5ECF6\",\"width\":0.5},\"pattern\":{\"fillmode\":\"overlay\",\"size\":10,\"solidity\":0.2}},\"type\":\"barpolar\"}],\"pie\":[{\"automargin\":true,\"type\":\"pie\"}]},\"layout\":{\"autotypenumbers\":\"strict\",\"colorway\":[\"#636efa\",\"#EF553B\",\"#00cc96\",\"#ab63fa\",\"#FFA15A\",\"#19d3f3\",\"#FF6692\",\"#B6E880\",\"#FF97FF\",\"#FECB52\"],\"font\":{\"color\":\"#2a3f5f\"},\"hovermode\":\"closest\",\"hoverlabel\":{\"align\":\"left\"},\"paper_bgcolor\":\"white\",\"plot_bgcolor\":\"#E5ECF6\",\"polar\":{\"bgcolor\":\"#E5ECF6\",\"angularaxis\":{\"gridcolor\":\"white\",\"linecolor\":\"white\",\"ticks\":\"\"},\"radialaxis\":{\"gridcolor\":\"white\",\"linecolor\":\"white\",\"ticks\":\"\"}},\"ternary\":{\"bgcolor\":\"#E5ECF6\",\"aaxis\":{\"gridcolor\":\"white\",\"linecolor\":\"white\",\"ticks\":\"\"},\"baxis\":{\"gridcolor\":\"white\",\"linecolor\":\"white\",\"ticks\":\"\"},\"caxis\":{\"gridcolor\":\"white\",\"linecolor\":\"white\",\"ticks\":\"\"}},\"coloraxis\":{\"colorbar\":{\"outlinewidth\":0,\"ticks\":\"\"}},\"colorscale\":{\"sequential\":[[0.0,\"#0d0887\"],[0.1111111111111111,\"#46039f\"],[0.2222222222222222,\"#7201a8\"],[0.3333333333333333,\"#9c179e\"],[0.4444444444444444,\"#bd3786\"],[0.5555555555555556,\"#d8576b\"],[0.6666666666666666,\"#ed7953\"],[0.7777777777777778,\"#fb9f3a\"],[0.8888888888888888,\"#fdca26\"],[1.0,\"#f0f921\"]],\"sequentialminus\":[[0.0,\"#0d0887\"],[0.1111111111111111,\"#46039f\"],[0.2222222222222222,\"#7201a8\"],[0.3333333333333333,\"#9c179e\"],[0.4444444444444444,\"#bd3786\"],[0.5555555555555556,\"#d8576b\"],[0.6666666666666666,\"#ed7953\"],[0.7777777777777778,\"#fb9f3a\"],[0.8888888888888888,\"#fdca26\"],[1.0,\"#f0f921\"]],\"diverging\":[[0,\"#8e0152\"],[0.1,\"#c51b7d\"],[0.2,\"#de77ae\"],[0.3,\"#f1b6da\"],[0.4,\"#fde0ef\"],[0.5,\"#f7f7f7\"],[0.6,\"#e6f5d0\"],[0.7,\"#b8e186\"],[0.8,\"#7fbc41\"],[0.9,\"#4d9221\"],[1,\"#276419\"]]},\"xaxis\":{\"gridcolor\":\"white\",\"linecolor\":\"white\",\"ticks\":\"\",\"title\":{\"standoff\":15},\"zerolinecolor\":\"white\",\"automargin\":true,\"zerolinewidth\":2},\"yaxis\":{\"gridcolor\":\"white\",\"linecolor\":\"white\",\"ticks\":\"\",\"title\":{\"standoff\":15},\"zerolinecolor\":\"white\",\"automargin\":true,\"zerolinewidth\":2},\"scene\":{\"xaxis\":{\"backgroundcolor\":\"#E5ECF6\",\"gridcolor\":\"white\",\"linecolor\":\"white\",\"showbackground\":true,\"ticks\":\"\",\"zerolinecolor\":\"white\",\"gridwidth\":2},\"yaxis\":{\"backgroundcolor\":\"#E5ECF6\",\"gridcolor\":\"white\",\"linecolor\":\"white\",\"showbackground\":true,\"ticks\":\"\",\"zerolinecolor\":\"white\",\"gridwidth\":2},\"zaxis\":{\"backgroundcolor\":\"#E5ECF6\",\"gridcolor\":\"white\",\"linecolor\":\"white\",\"showbackground\":true,\"ticks\":\"\",\"zerolinecolor\":\"white\",\"gridwidth\":2}},\"shapedefaults\":{\"line\":{\"color\":\"#2a3f5f\"}},\"annotationdefaults\":{\"arrowcolor\":\"#2a3f5f\",\"arrowhead\":0,\"arrowwidth\":1},\"geo\":{\"bgcolor\":\"white\",\"landcolor\":\"#E5ECF6\",\"subunitcolor\":\"white\",\"showland\":true,\"showlakes\":true,\"lakecolor\":\"white\"},\"title\":{\"x\":0.05},\"mapbox\":{\"style\":\"light\"}}},\"xaxis\":{\"anchor\":\"y\",\"domain\":[0.0,1.0],\"scaleanchor\":\"y\",\"constrain\":\"domain\",\"title\":{\"text\":\"m_chi_10 [GeV]\"}},\"yaxis\":{\"anchor\":\"x\",\"domain\":[0.0,1.0],\"autorange\":true,\"constrain\":\"domain\",\"title\":{\"text\":\"m_chi_20 [GeV]\"}},\"coloraxis\":{\"colorbar\":{\"title\":{\"text\":\"True - predicted CLs\"}},\"colorscale\":[[0.0,\"#0d0887\"],[0.1111111111111111,\"#46039f\"],[0.2222222222222222,\"#7201a8\"],[0.3333333333333333,\"#9c179e\"],[0.4444444444444444,\"#bd3786\"],[0.5555555555555556,\"#d8576b\"],[0.6666666666666666,\"#ed7953\"],[0.7777777777777778,\"#fb9f3a\"],[0.8888888888888888,\"#fdca26\"],[1.0,\"#f0f921\"]]},\"title\":{\"text\":\"Difference 3LOnshell CLs heatmap\"},\"height\":600,\"width\":800},                        {\"responsive\": true}                    ).then(function(){\n",
       "                            \n",
       "var gd = document.getElementById('2928d06b-57fa-486d-bb19-fb732d45290f');\n",
       "var x = new MutationObserver(function (mutations, observer) {{\n",
       "        var display = window.getComputedStyle(gd).display;\n",
       "        if (!display || display === 'none') {{\n",
       "            console.log([gd, 'removed!']);\n",
       "            Plotly.purge(gd);\n",
       "            observer.disconnect();\n",
       "        }}\n",
       "}});\n",
       "\n",
       "// Listen for the removal of the full notebook cells\n",
       "var notebookContainer = gd.closest('#notebook-container');\n",
       "if (notebookContainer) {{\n",
       "    x.observe(notebookContainer, {childList: true});\n",
       "}}\n",
       "\n",
       "// Listen for the clearing of the current output cell\n",
       "var outputEl = gd.closest('.output');\n",
       "if (outputEl) {{\n",
       "    x.observe(outputEl, {childList: true});\n",
       "}}\n",
       "\n",
       "                        })                };                });            </script>        </div>"
      ]
     },
     "metadata": {},
     "output_type": "display_data"
    }
   ],
   "source": [
    "output_df = pd.read_csv(\"../csv-files/CLs_predictions/4l_128n_EWKino_with_all_CLs_predictions.csv\")\n",
    "\n",
    "def convert_to_heatmap_form(data: [[int]]) -> np.array:\n",
    "    \n",
    "    # Reverse array order so plots are in standard form of origin in bottom left (rather than top left)\n",
    "    #data = data[::-1]\n",
    "    \n",
    "    # Convert to numpy arrays for easier handling\n",
    "    return np.array(data)\n",
    "\n",
    "def heatmap(df: pd.DataFrame, CLs_type: str, num_bins: int):\n",
    "    \n",
    "    true_CLs_name = f'{CLs_type}__ObsCLs'\n",
    "    pred_CLs_name = f'Predicted_{CLs_type}_CLs'\n",
    "    if CLs_type == 'Final__CLs': # Final__CLs column name is in different form\n",
    "        true_CLs_name = 'Final__CLs'\n",
    "        pred_CLs_name = 'Predicted_Final__CLs'\n",
    "    \n",
    "    plt.style.use('default')\n",
    "    \n",
    "    # Get 1st and 2nd neutralino masses for each SUSY model\n",
    "    m_chi_10 = df[\"m_chi_10\"]\n",
    "    m_chi_20 = df[\"m_chi_20\"]\n",
    "    \n",
    "    # Create mass bins for plotting\n",
    "    '''M1_bins = np.linspace(0, 500, num_bins+1)\n",
    "    M2_bins = np.linspace(0, 500, num_bins+1)'''\n",
    "    \n",
    "    M1_bins = np.linspace(0, max(m_chi_10), num_bins+1)\n",
    "    M2_bins = np.linspace(0, max(m_chi_20), num_bins+1)\n",
    "    \n",
    "    mean_true_CLs = []\n",
    "    mean_pred_CLs = []\n",
    "    model_count = []\n",
    "    CLs_MAE = []\n",
    "    correct_exclusions = []\n",
    "    \n",
    "    for i in range(num_bins):\n",
    "        \n",
    "        mean_j_true_CLs = []\n",
    "        mean_j_pred_CLs = []\n",
    "        j_model_count = []\n",
    "        j_CLs_MAE = []\n",
    "        j_correct_exclusions = []\n",
    "        \n",
    "        for j in range(num_bins):\n",
    "            \n",
    "            # Select models in particular bin\n",
    "            bin_mask = (m_chi_10 >= M1_bins[j]) & (m_chi_10 < M1_bins[j+1]) & (m_chi_20 >= M2_bins[i]) & (m_chi_20 < M2_bins[i+1])\n",
    "            \n",
    "            # Get true and predicted CLs in bin\n",
    "            bin_true_CLs = df[bin_mask][true_CLs_name]\n",
    "            bin_pred_CLs = df[bin_mask][pred_CLs_name]\n",
    "            \n",
    "            # Get mean true and predicted CLs in bin\n",
    "            mean_bin_true_CLs = bin_true_CLs.mean()\n",
    "            mean_bin_pred_CLs = bin_pred_CLs.mean()\n",
    "            \n",
    "            # Get number of models in bin\n",
    "            bin_model_count = bin_mask.sum()\n",
    "            if bin_model_count == 0:\n",
    "                bin_model_count = float(\"nan\")\n",
    "                \n",
    "            # Get MAE in bin\n",
    "            bin_MAE = abs(bin_true_CLs - bin_pred_CLs).mean()\n",
    "            \n",
    "            # Get number of correctly excluded models in each bin\n",
    "            bin_correct_exclusions = ((df[bin_mask][true_CLs_name] < 0.05) & (df[bin_mask][pred_CLs_name] < 0.05)).sum()\n",
    "            if bin_correct_exclusions == 0:\n",
    "                bin_correct_exclusions = float(\"nan\")\n",
    "            \n",
    "            mean_j_true_CLs.append(mean_bin_true_CLs)\n",
    "            mean_j_pred_CLs.append(mean_bin_pred_CLs)\n",
    "            j_model_count.append(bin_model_count)\n",
    "            j_CLs_MAE.append(bin_MAE)\n",
    "            j_correct_exclusions.append(bin_correct_exclusions)\n",
    "            \n",
    "        mean_true_CLs.append(mean_j_true_CLs)\n",
    "        mean_pred_CLs.append(mean_j_pred_CLs)\n",
    "        model_count.append(j_model_count)\n",
    "        CLs_MAE.append(j_CLs_MAE)\n",
    "        correct_exclusions.append(j_correct_exclusions)\n",
    "    \n",
    "    # Convert arrays into a better form for heatmap plotting\n",
    "    mean_true_CLs = convert_to_heatmap_form(mean_true_CLs)\n",
    "    mean_pred_CLs = convert_to_heatmap_form(mean_pred_CLs)\n",
    "    model_count = convert_to_heatmap_form(model_count)\n",
    "    CLs_MAE = convert_to_heatmap_form(CLs_MAE)\n",
    "    correct_exclusions = convert_to_heatmap_form(correct_exclusions)\n",
    "    \n",
    "    # Make 2D heatmap plots\n",
    "    fig_x=np.linspace(0, 500, num_bins)\n",
    "    fig_y=np.linspace(0, 500, num_bins)\n",
    "    \n",
    "    fig_true = px.imshow(mean_true_CLs, \n",
    "                         labels=dict(x=\"m_chi_10 [GeV]\", y=\"m_chi_20 [GeV]\", color=\"True CLs\"), \n",
    "                         x=fig_x, y=fig_y, origin=\"lower\", width=800, height=600, title=\"True mean CLs heatmap\")\n",
    "    \n",
    "    fig_pred = px.imshow(mean_pred_CLs,\n",
    "                         labels=dict(x=\"m_chi_10 [GeV]\", y=\"m_chi_20 [GeV]\", color=\"Predicted CLs\"), \n",
    "                         x=fig_x, y=fig_y, origin=\"lower\", width=800, height=600, title=\"Predicted mean CLs heatmap\")\n",
    "    \n",
    "    fig_diff = px.imshow(abs(mean_true_CLs - mean_pred_CLs),\n",
    "                         labels=dict(x=\"m_chi_10 [GeV]\", y=\"m_chi_20 [GeV]\", color=\"True - predicted CLs\"), \n",
    "                         x=fig_x, y=fig_y, origin=\"lower\", width=800, height=600, title=f\"Difference {CLs_type} CLs heatmap\")\n",
    "    \n",
    "    fig_count = px.imshow(model_count, \n",
    "                          labels=dict(x=\"m_chi_10 [GeV]\", y=\"m_chi_20 [GeV]\", color=\"Number of models\"), \n",
    "                          x=fig_x, y=fig_y, origin=\"lower\", width=800, height=600, title=\"Number of models heatmap\")\n",
    "    \n",
    "    fig_MAE = px.imshow(CLs_MAE, \n",
    "                        labels=dict(x=\"m_chi_10 [GeV]\", y=\"m_chi_20 [GeV]\", color=\"MAE\"), \n",
    "                        x=fig_x, y=fig_y, origin=\"lower\", width=800, height=600, title=\"MAE heatmap\")\n",
    "    \n",
    "    fig_excl = px.imshow(correct_exclusions,\n",
    "                         labels=dict(x=\"m_chi_10 [GeV]\", y=\"m_chi_20 [GeV]\", color=\"Correct exclusions\"), \n",
    "                         x=fig_x, y=fig_y, origin=\"lower\", width=800, height=600, title=\"Correct exclusions heatmap\")\n",
    "    \n",
    "    # This is all transparency mask stuff\n",
    "    '''\n",
    "    # Get number of models in each bin and normalise to [0,1] to use as transparency mask\n",
    "    norm_model_count = model_count\n",
    "    norm_model_count = np.nan_to_num(norm_model_count)\n",
    "    norm_model_count = norm_model_count / np.max(norm_model_count)\n",
    "    \n",
    "    # matplotlib plotting\n",
    "    plt_fig_x = np.linspace(0, max(m_chi_10), num_bins)\n",
    "    plt_fig_y = np.linspace(0, max(m_chi_20), num_bins)\n",
    "    fig, ax = plt.subplots()\n",
    "    im = ax.imshow(mean_true_CLs, cmap='plasma', origin='lower', alpha=norm_model_count)\n",
    "    plt.xlabel('m_chi_10 [GeV]')\n",
    "    plt.ylabel('m_chi_20 [GeV]')\n",
    "    plt.title('True mean CLs heatmap')\n",
    "    ax.set_xticks(range(len(plt_fig_x))[::5], labels=plt_fig_x[::5],\n",
    "              rotation=45, ha=\"right\", rotation_mode=\"anchor\")\n",
    "    ax.set_yticks(range(len(plt_fig_y))[::5], labels=plt_fig_y[::5])\n",
    "    plt.colorbar(im)\n",
    "    plt.show()\n",
    "    \n",
    "    #plt.colorbar()\n",
    "    #plt.show()\n",
    "    '''\n",
    "    \n",
    "    #fig_true.show()    \n",
    "    #fig_pred.show()\n",
    "    fig_diff.show()\n",
    "    #fig_count.show()\n",
    "    #fig_MAE.show()\n",
    "    # fig_excl.show()\n",
    "    \n",
    "    # Saving heatmaps\n",
    "    '''\n",
    "    fig_true.write_image('../plots/CLs_predictor_performance/4l_128n_75e_MAE_plots/heatmaps/true_mean_CLs.png')\n",
    "    fig_pred.write_image('../plots/CLs_predictor_performance/4l_128n_75e_MAE_plots/heatmaps/pred_mean_CLs.png')    \n",
    "    fig_diff.write_image('../plots/CLs_predictor_performance/4l_128n_75e_MAE_plots/heatmaps/diff_mean_CLs.png')    \n",
    "    fig_count.write_image('../plots/CLs_predictor_performance/4l_128n_75e_MAE_plots/heatmaps/num_models.png')    \n",
    "    fig_MAE.write_image('../plots/CLs_predictor_performance/4l_128n_75e_MAE_plots/heatmaps/MAE_heatmap.png')\n",
    "    '''\n",
    "    \n",
    "heatmap(output_df, CLs_labels[6], 30)"
   ]
  }
 ],
 "metadata": {
  "kernelspec": {
   "display_name": ".venv",
   "language": "python",
   "name": "python3"
  },
  "language_info": {
   "codemirror_mode": {
    "name": "ipython",
    "version": 3
   },
   "file_extension": ".py",
   "mimetype": "text/x-python",
   "name": "python",
   "nbconvert_exporter": "python",
   "pygments_lexer": "ipython3",
   "version": "3.12.3"
  }
 },
 "nbformat": 4,
 "nbformat_minor": 2
}
